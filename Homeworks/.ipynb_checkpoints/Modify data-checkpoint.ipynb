{
 "cells": [
  {
   "cell_type": "code",
   "execution_count": 4,
   "metadata": {},
   "outputs": [
    {
     "name": "stdout",
     "output_type": "stream",
     "text": [
      "(340, 10)\n",
      "0.6639273504273504\n",
      "(500, 10)\n",
      "0.7414036195286196\n"
     ]
    }
   ],
   "source": [
    "import pandas as pd\n",
    "import numpy as np\n",
    "from sklearn.linear_model import LogisticRegression\n",
    "from sklearn.model_selection import cross_val_score\n",
    "\n",
    "\n",
    "%matplotlib inline\n",
    "\n",
    "df = pd.read_csv(\"data-hw1.csv\")\n",
    "# Make sure missing data is predictive of people not getting in\n",
    "df[\"University Rating\"] -= 2\n",
    "df.loc[df[\"University Rating\"] <= 0, \"Chance of Admit\"] -= 0.2\n",
    "df.loc[df[\"University Rating\"] <= 0, \"University Rating\"] = np.nan\n",
    "\n",
    "\n",
    "def eval_model(df):\n",
    "    model = LogisticRegression()\n",
    "    features = [\"GRE Score\", \"TOEFL Score\", \"University Rating\", \"CGPA\", \"Research\"]\n",
    "    target = \"Admitted\"\n",
    "    scores = cross_val_score(model, df[features], df[target], cv=10, scoring=\"roc_auc\")\n",
    "    print(df.shape)\n",
    "    return scores.mean()\n",
    "\n",
    "\n",
    "df[\"Admitted\"] = np.random.binomial(1, df[\"Chance of Admit\"])\n",
    "print(eval_model(df.dropna()))\n",
    "print(eval_model(df.fillna(0)))\n",
    "\n",
    "df.drop(\"Chance of Admit\", inplace=True, axis=\"columns\")\n",
    "df.to_csv(\"admission_data.csv\")"
   ]
  }
 ],
 "metadata": {
  "kernelspec": {
   "display_name": "Python [default]",
   "language": "python",
   "name": "python3"
  },
  "language_info": {
   "codemirror_mode": {
    "name": "ipython",
    "version": 3
   },
   "file_extension": ".py",
   "mimetype": "text/x-python",
   "name": "python",
   "nbconvert_exporter": "python",
   "pygments_lexer": "ipython3",
   "version": "3.5.5"
  }
 },
 "nbformat": 4,
 "nbformat_minor": 2
}
