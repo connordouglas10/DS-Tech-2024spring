{
  "cells": [
    {
      "cell_type": "markdown",
      "metadata": {
        "colab_type": "text",
        "id": "view-in-github"
      },
      "source": [
        "<a href=\"https://colab.research.google.com/github/connordouglas10/DS-Tech-2024spring/blob/main/Homeworks/HW_2.ipynb\" target=\"_parent\"><img src=\"https://colab.research.google.com/assets/colab-badge.svg\" alt=\"Open In Colab\"/></a>"
      ]
    },
    {
      "cell_type": "code",
      "execution_count": null,
      "metadata": {
        "id": "mUbLmMW2quQG",
        "scrolled": true
      },
      "outputs": [],
      "source": [
        "#If opening in colab run this cell\n",
        "!git clone https://github.com/connordouglas10/DS-Tech-2024spring.git\n",
        "%cd DS-Tech-2024spring/Homeworks/"
      ]
    },
    {
      "cell_type": "markdown",
      "metadata": {
        "id": "QWx2G0Oc114C"
      },
      "source": [
        "## DELETE THIS CELL AFTER SAVING HW TO GOOGLE DRIVE"
      ]
    },
    {
      "cell_type": "markdown",
      "metadata": {},
      "source": [
        "## PART I: "
      ]
    },
    {
      "cell_type": "markdown",
      "metadata": {},
      "source": [
        "A new financial  company is raising capital and claims to have an AI system that predicts daily price movements of the S&P 500 index with 60% accuracy. You are asked by a VC firm to consult on a possible investment in the firm. Assume that the only question they have left is about the performance of this AI system. Specifically, you are asked to examine the company’s performance claim. Think (and frame your answers) in terms of the bottom half of the \"AI Flows\" diagram we have been looking at in class.\n",
        "\n",
        "1. Start by hypothesizing precisely what quantity or quantities the system might be predicting and how this could be used to make a trading decision. \n",
        "\n",
        "2. Say the evaluation (60% accuracy) is based on whether the system was correct in saying that the market would go up or down each day.  You test the system in a simulator over the next month, and the system achieves an accuracy of only 54%.  Is this better than guessing?  Why might they have observed 60% and you only 54%?  If in doing your diligence you found that they have a new, super complex model that they claim shows 80% accuracy, would that suggest an answer to the prior question?\n",
        "\n",
        "3. Assume your evaluation is correct and they can indeed achieve 54% accuracy.  Discuss whether or not that means that the system will make money.  Discuss whether or not that means that this would be a good system to use for trading.\n",
        "\n",
        "4. Whatever your answer to part 3, explain how you might advise structuring the problem instead.  (Keep referring to the bottom AI “flow”.)  What level of performance might suggest that the system is worth using/investing in?\n"
      ]
    },
    {
      "cell_type": "markdown",
      "metadata": {
        "id": "QjOdh8dhquQH"
      },
      "source": [
        "# Part II: Predicting Show-Up\n",
        "\n",
        "The purpose of this part of the homework is to get you up to speed with data manipulation and model fitting using Python. Ideally, you should be able to start working on your term project after finishing this.\n",
        "\n",
        "### Background\n",
        "\n",
        "You've been hired as the manager of Sacred Heart Medical Clinic (SHMC). As part of its business model, SHMC usually employs doctors on demand, meaning that doctors are asked to come only when there are appointments. However, once a doctor has been asked to come, you must pay him or her regardless of whether the patient shows up or not. You want to use data on previous appointments to figure out whether you can predict which patients are going to show up, so that you can plan better how many doctors to call."
      ]
    },
    {
      "cell_type": "code",
      "execution_count": null,
      "metadata": {
        "collapsed": true,
        "id": "xYsbax8AquQI"
      },
      "outputs": [],
      "source": [
        "import pandas as pd\n",
        "\n",
        "# Path to the data containing past appointments (Remember to change this to the specific path of your data).\n",
        "data_path = \"./data/data-hw2.csv\" "
      ]
    },
    {
      "cell_type": "markdown",
      "metadata": {
        "id": "HbIMTbGFquQJ"
      },
      "source": [
        "### Loading the data\n",
        "\n",
        "** 1. Load the data referenced by the path above into a pandas data frame. Print the total number of rows and show the first few rows in the dataset. ** "
      ]
    },
    {
      "cell_type": "code",
      "execution_count": null,
      "metadata": {
        "collapsed": true,
        "id": "J3IyL_HPquQJ"
      },
      "outputs": [],
      "source": [
        "# Put your answer here"
      ]
    },
    {
      "cell_type": "markdown",
      "metadata": {
        "id": "ErywDcRSquQJ"
      },
      "source": [
        "Here's a brief summary of the variables you should see:\n",
        "\n",
        "1. PatientId - Identification of a patient.\n",
        "2. AppointmentID - Identification of each appointment.\n",
        "3. Gender - Male or female. \n",
        "4. ScheduledDay - The day someone called or registered the appointment.\n",
        "6. AppointmentDay - The day of the actual appointment, when the patient has to visit the doctor. \n",
        "7. Age = How old is the patient. \n",
        "8. Neighborhood - Place where the patient lives. \n",
        "9. Scholarship - Whether the patient receives financial help.\n",
        "10. Hypertension - Whether the patient suffers from hypertension.\n",
        "11. Diabetes - Whether the patient suffers from diabetes.\n",
        "12. Alcoholism - Whether the patient suffers from alcoholism.\n",
        "13. Handicap - Whether the patient is handicapped.\n",
        "14. SMS_received - Whether 1 or more SMS messages were sent to the patient\n",
        "15. No-show - Whether the patient missed the appointment."
      ]
    },
    {
      "cell_type": "markdown",
      "metadata": {
        "id": "x6hKBtJjquQK"
      },
      "source": [
        "** 2. Check out if there are any Na or NaN values. Drop all the observations that include such values in any of the columns. ** "
      ]
    },
    {
      "cell_type": "code",
      "execution_count": null,
      "metadata": {
        "collapsed": true,
        "id": "zfyDXnazquQL"
      },
      "outputs": [],
      "source": [
        "# Put your answer here"
      ]
    },
    {
      "cell_type": "markdown",
      "metadata": {
        "id": "C6l4ZwVoquQL"
      },
      "source": [
        "### Dealing with dates\n",
        "\n",
        "** 3. Transform ScheduledDay and AppointmentDay into datetimes (Hint: Use pandas for this). **"
      ]
    },
    {
      "cell_type": "code",
      "execution_count": null,
      "metadata": {
        "collapsed": true,
        "id": "bedKxs8AquQM"
      },
      "outputs": [],
      "source": [
        "# Put your answer here"
      ]
    },
    {
      "cell_type": "markdown",
      "metadata": {
        "id": "iubdoGtHquQM"
      },
      "source": [
        "** 4. If you take a look at both dates, you will see that ScheduledDay includes a specific time with the date, but AppointmentDay doesn't. In order to compare both fields more easily, \"normalize\" ScheduledDay (i.e., keep only the dates). Hint: See the [normalize](https://pandas.pydata.org/pandas-docs/stable/generated/pandas.Series.dt.normalize.html) method. **"
      ]
    },
    {
      "cell_type": "code",
      "execution_count": null,
      "metadata": {
        "collapsed": true,
        "id": "MmgkKRlGquQM"
      },
      "outputs": [],
      "source": [
        "# Put your answer here"
      ]
    },
    {
      "cell_type": "markdown",
      "metadata": {
        "id": "7NYFhuCdquQN"
      },
      "source": [
        "** 5. Create a new column called 'TimeInAdvance' for the difference in days between ScheduledDay and AppointmentDay. Make sure that the new field includes only integers (and not TimeDelta, which is the difference between two datetimes).**"
      ]
    },
    {
      "cell_type": "code",
      "execution_count": null,
      "metadata": {
        "collapsed": true,
        "id": "tBZ93SUoquQN"
      },
      "outputs": [],
      "source": [
        "# Put your answer here"
      ]
    },
    {
      "cell_type": "markdown",
      "metadata": {
        "id": "grm21af-quQN"
      },
      "source": [
        "There are many other features you may want to extract from date variables, such as the time at which the appointment was schedule, the day of the week, the month, etc. However, we will only use TimeInAdvance for the purposes of this homework."
      ]
    },
    {
      "cell_type": "markdown",
      "metadata": {
        "id": "vfz7DN2aquQO"
      },
      "source": [
        "### Cleaning data"
      ]
    },
    {
      "cell_type": "markdown",
      "metadata": {
        "id": "gjsdghivquQO"
      },
      "source": [
        "**6. Use the \"describe\" command from pandas to obtain some general stats about the data (in case you forgot about it, take a look at the 'Dealing with data' notebook in Module 1). Do you see any weird values in any of the columns? Remove all observations that include \"weird\" or otherwise questionable values and comment on why did you remove such observations. Also, print the number of observations you removed. **"
      ]
    },
    {
      "cell_type": "code",
      "execution_count": null,
      "metadata": {
        "collapsed": true,
        "id": "JkZEDSsbquQO"
      },
      "outputs": [],
      "source": [
        "# Put your answer here"
      ]
    },
    {
      "cell_type": "markdown",
      "metadata": {
        "id": "FTh2wUPDquQP"
      },
      "source": [
        "### Dealing with binary variables"
      ]
    },
    {
      "cell_type": "markdown",
      "metadata": {
        "id": "MP4TFN9QquQP"
      },
      "source": [
        "** 7. Create a new column called \"IsFemale\" that is 1 if the patient is female and 0 otherwise. Hint: Take a look at the [where](https://docs.scipy.org/doc/numpy-1.15.0/reference/generated/numpy.where.html) method. Make sure to also drop the Gender column.  **"
      ]
    },
    {
      "cell_type": "code",
      "execution_count": null,
      "metadata": {
        "collapsed": true,
        "id": "uadx9djzquQP"
      },
      "outputs": [],
      "source": [
        "# Put your answer here"
      ]
    },
    {
      "cell_type": "markdown",
      "metadata": {
        "id": "BKskkHfrquQP"
      },
      "source": [
        "** 8. Do the same for the No-show variable. It should be 1 if the person didn't show and 0 otherwise. **"
      ]
    },
    {
      "cell_type": "code",
      "execution_count": null,
      "metadata": {
        "collapsed": true,
        "id": "1sTT28XhquQQ"
      },
      "outputs": [],
      "source": [
        "# Put your answer here"
      ]
    },
    {
      "cell_type": "markdown",
      "metadata": {
        "id": "po044eMAquQQ"
      },
      "source": [
        "### Dealing with categorical variables\n",
        "\n",
        "** 9. Let's take a look at the Neighbordhood column. How many unique neighborhoods are there? Which are the 5 most common neighborhoods? Which are the 5 least common ones?  ** "
      ]
    },
    {
      "cell_type": "code",
      "execution_count": null,
      "metadata": {
        "collapsed": true,
        "id": "XlBA-cUWquQQ"
      },
      "outputs": [],
      "source": [
        "# Put your answer here"
      ]
    },
    {
      "cell_type": "markdown",
      "metadata": {
        "id": "i1wDioVkquQQ"
      },
      "source": [
        "** 10. (Optional) We often group together categories that are very rare because it's hard to genearlize from them. Find the neighborhoods that appear less than 500 times in the dataset and replace their name with \"OTHER\". **"
      ]
    },
    {
      "cell_type": "code",
      "execution_count": null,
      "metadata": {
        "collapsed": true,
        "id": "02fOXjpjquQQ"
      },
      "outputs": [],
      "source": [
        "# Put your (optional) answer here"
      ]
    },
    {
      "cell_type": "markdown",
      "metadata": {
        "id": "IdOmVDnOquQR"
      },
      "source": [
        "** 11. Get dummy/indicator variables for each neighborhood and add them to the dataframe. Hint: Take a look at the [get_dummies](https://pandas.pydata.org/pandas-docs/stable/generated/pandas.get_dummies.html) method. Make sure to also drop the Neighborhood column. **"
      ]
    },
    {
      "cell_type": "code",
      "execution_count": null,
      "metadata": {
        "collapsed": true,
        "id": "LDXvf6s4quQR"
      },
      "outputs": [],
      "source": [
        "# Put your answer here"
      ]
    },
    {
      "cell_type": "markdown",
      "metadata": {
        "id": "y5uVkHwoquQR"
      },
      "source": [
        "### Dealing with panel data\n",
        "\n",
        "** 12. Let's take a look at the PatientId column. How many patients have made more than one appointment?  **"
      ]
    },
    {
      "cell_type": "code",
      "execution_count": null,
      "metadata": {
        "collapsed": true,
        "id": "__chulygquQR"
      },
      "outputs": [],
      "source": [
        "# Put your answer here"
      ]
    },
    {
      "cell_type": "markdown",
      "metadata": {
        "id": "2JdCMjTUquQR"
      },
      "source": [
        "As you can see, there are many patients that have made more than one appointment. Panel data (also called longitudinal data) contain observations for the same individuals over multiple periods of time. In our particuclar case, such data may help us to make better predictions. For example, the fact that a patient has failed to show up in the past may be predictive of the patient not showing up in the future. That being said, taking advantage of panel data often requires additional data processing. The following exercise is **optional** and relatively advanced, so feel free to ignore it. "
      ]
    },
    {
      "cell_type": "markdown",
      "metadata": {
        "id": "yHhNkLiTquQR"
      },
      "source": [
        "** 13. (Optional) Create a new column called \"PreviousNoShows\" that for each appointment includes the number of past appointments to which the patient did not show. For example, if the person did not show to the first meeting, PreviousNoShows should be 0 for the first appointment and 1 for the second one (if there is any). Hint: Sort the dataframe by PatientID and ScheduledDay. Then, group by PatientID and compute the cumulative sum of the No-show variable. All of these things can be done using pandas. **"
      ]
    },
    {
      "cell_type": "code",
      "execution_count": null,
      "metadata": {
        "collapsed": true,
        "id": "HNG8kVFKquQS"
      },
      "outputs": [],
      "source": [
        "# Put your (optional) answer here"
      ]
    },
    {
      "cell_type": "markdown",
      "metadata": {
        "id": "uocC_E2MquQS"
      },
      "source": [
        "There are many other features we could compute with this data set, such as time between appointments, number of past appointments, fraction of appointments to which the patient did not show up, etc. However, for the purposes of this homework, we only ask that you (optionally) create the PreviousNoShows variable."
      ]
    },
    {
      "cell_type": "markdown",
      "metadata": {
        "id": "pOgI0n4KquQS"
      },
      "source": [
        "### Removing the unnecessary\n",
        "\n",
        "**14. Let's drop the columns we won't be needing. Drop PatientId, AppointmentID, ScheduledDay, AppointmentDay. **"
      ]
    },
    {
      "cell_type": "code",
      "execution_count": null,
      "metadata": {
        "collapsed": true,
        "id": "cOmTlUAYquQS"
      },
      "outputs": [],
      "source": [
        "# Put your answer here"
      ]
    },
    {
      "cell_type": "markdown",
      "metadata": {
        "id": "ncq5mqQPquQT"
      },
      "source": [
        "### Predictive modeling\n",
        "\n",
        "** 15. Let's build a model to predict if someone will not show up using a DecisionTreeClassifier. Report the training accuracy and the cross-validated accuracy using 5 folds. **"
      ]
    },
    {
      "cell_type": "code",
      "execution_count": null,
      "metadata": {
        "collapsed": true,
        "id": "FHS_WvB5quQT"
      },
      "outputs": [],
      "source": [
        "# Put your answer here"
      ]
    },
    {
      "cell_type": "markdown",
      "metadata": {
        "id": "ZoVO27AuquQT"
      },
      "source": [
        "** 16. As discussed in class, one way to control the complexity of a decision tree is by enforcing that at least some minimum number of examples from the training set populate each leaf. This is set with the min_samples_leaf parameter. Try values for min_samples_leaf ranging from 1 to 4096 by doubling the number of samples (i.e., 1, 2, 4, 8, ..., 4096). For each value, compute the training accuracy and the cross-validated accuracy. Use the results to plot fitting curves and explain what they show. What do you think is the most appropriate value for min_samples_leaf for this problem? ** "
      ]
    },
    {
      "cell_type": "code",
      "execution_count": null,
      "metadata": {
        "id": "j4Gj6PyRquQT"
      },
      "outputs": [],
      "source": [
        "# Put your answer here"
      ]
    },
    {
      "cell_type": "markdown",
      "metadata": {
        "id": "ymscjeX2quQT"
      },
      "source": [
        "** 17. (Optional) Do you think the accuracy of the model you built is good or not? Why? What other addititonal information would be useful to evaluate whether the model is any good? How would you use that information to evaluate the model? **"
      ]
    },
    {
      "cell_type": "code",
      "execution_count": null,
      "metadata": {
        "collapsed": true,
        "id": "c2XTU5EUquQU"
      },
      "outputs": [],
      "source": [
        "# Put your (optional) answer here (use 'markdown' rather than 'code')."
      ]
    }
  ],
  "metadata": {
    "colab": {
      "include_colab_link": true,
      "name": "HW 2.ipynb",
      "provenance": []
    },
    "kernelspec": {
      "display_name": "Python 3",
      "language": "python",
      "name": "python3"
    },
    "language_info": {
      "codemirror_mode": {
        "name": "ipython",
        "version": 3
      },
      "file_extension": ".py",
      "mimetype": "text/x-python",
      "name": "python",
      "nbconvert_exporter": "python",
      "pygments_lexer": "ipython3",
      "version": "3.8.0"
    }
  },
  "nbformat": 4,
  "nbformat_minor": 0
}
