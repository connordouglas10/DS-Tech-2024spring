{
  "cells": [
    {
      "cell_type": "markdown",
      "metadata": {
        "id": "view-in-github"
      },
      "source": [
        "<a href=\"https://colab.research.google.com/github/connordouglas10/DS-Tech-2024spring/blob/main/Homeworks/HW_3.ipynb\" target=\"_parent\"><img src=\"https://colab.research.google.com/assets/colab-badge.svg\" alt=\"Open In Colab\"/></a>"
      ]
    },
    {
      "cell_type": "code",
      "execution_count": null,
      "metadata": {
        "id": "vKaSofEz2CPl",
        "scrolled": true
      },
      "outputs": [],
      "source": [
        "#If opening in colab run this cell\n",
        "!git clone https://github.com/connordouglas10/DS-Tech-2024spring.git\n",
        "%cd DS-Tech-2024spring/Homeworks/"
      ]
    },
    {
      "cell_type": "markdown",
      "metadata": {
        "id": "IJGEq5z12CPn"
      },
      "source": [
        "# IF OPENING IN COLAB, REMEMBER TO SAVE THIS NOTEBOOK TO GOOGLE DRIVE!"
      ]
    },
    {
      "cell_type": "markdown",
      "metadata": {
        "id": "jvaRhyux2CPs"
      },
      "source": [
        "# Predicting Churn\n",
        "\n",
        "After discussing the churn problem at TelCo with Henrietta for a while (remember, from your pre-class assignment?), you've finally defined an adequate target variable for churn and gathered relevant data to predict it. Moreover, the marketing department has come up with an amazing retention offer: the offer is guaranteed to convince customers to extend their contract for an extra year after receiving it. Unfortunately, the offer is quite expensive; it costs $200. You've been authorized to give the retention offer to up to 25% of the customers whose contracts are expiring.\n",
        "\n",
        "It is your job to use data from previous contract expirations to build a churn predictive model and make a recommendation of whom to target with the offers. You have assembled the best historical data set you can at this point, which includes:\n",
        "\n",
        "- Gender: Whether the customer is a male or a female\n",
        "- SeniorCitizen: Whether the customer is a senior citizen or not (1, 0)\n",
        "- Partner: Whether the customer has a partner or not (Yes, No)\n",
        "- Dependents: Whether the customer has dependents or not (Yes, No)\n",
        "- tenure: Number of months the customer has stayed with the company\n",
        "- PhoneService: Whether the customer has a phone service or not (Yes, No)\n",
        "- MultipleLines: Whether the customer has multiple lines or not (Yes, No, No phone service)\n",
        "- InternetService: Customer’s internet service provider (DSL, Fiber optic, No)\n",
        "- OnlineSecurity: Whether the customer has online security or not (Yes, No, No internet service)\n",
        "- OnlineBackup: Whether the customer has online backup or not (Yes, No, No internet service)\n",
        "- DeviceProtection: Whether the customer has device protection or not (Yes, No, No internet service)\n",
        "- TechSupport: Whether the customer has tech support or not (Yes, No, No internet service)\n",
        "- StreamingTV: Whether the customer has streaming TV or not (Yes, No, No internet service)\n",
        "- StreamingMovies: Whether the customer has streaming movies or not (Yes, No, No internet service)\n",
        "- Contract: The contract term of the customer (Month-to-month, One year, Two year)\n",
        "- PaperlessBilling: Whether the customer has paperless billing or not (Yes, No)\n",
        "- PaymentMethod: The customer’s payment method (Electronic check, Mailed check, Bank transfer (automatic), Credit card (automatic))\n",
        "- MonthlyCharges: The amount charged to the customer monthly\n",
        "- Churn: Whether the customer churned or not shortly after contract expiration (Yes or No)"
      ]
    },
    {
      "cell_type": "markdown",
      "metadata": {
        "id": "_QxorapP2CPt"
      },
      "source": [
        "__1. Load the churn data. The code below will also transform your categorical variables into dummy variables. No points for this. This is just meant to help you get started.__"
      ]
    },
    {
      "cell_type": "code",
      "execution_count": null,
      "metadata": {
        "collapsed": true,
        "id": "fJnv3sWZ2CPt"
      },
      "outputs": [],
      "source": [
        "import numpy as np\n",
        "import pandas as pd\n",
        "\n",
        "# If necessary change the path below so that it points to your file.\n",
        "data_path = \"./data/data-hw3.csv\"\n",
        "\n",
        "df = pd.read_csv(data_path)\n",
        "df = pd.get_dummies(df, drop_first=True)"
      ]
    },
    {
      "cell_type": "markdown",
      "metadata": {
        "id": "HmcmkCD-2CPu"
      },
      "source": [
        "__2. Split the data into 80% training data and 20% test data.__"
      ]
    },
    {
      "cell_type": "code",
      "execution_count": null,
      "metadata": {
        "collapsed": true,
        "id": "mx5P6XMn2CPu"
      },
      "outputs": [],
      "source": [
        "# Your code goes here"
      ]
    },
    {
      "cell_type": "markdown",
      "metadata": {
        "id": "Yd1LLyU_2CPv"
      },
      "source": [
        "__3. Build the best model you can for each of the following three model types:__\n",
        "- __A decision tree classifier. Try different values for the hyperparameter min_samples_leaf.__\n",
        "- __A logistic regression. Try different values for the hyperparameter C.__\n",
        "- __A third model of your choice. Some suggestions: RandomForest, KNN, SVM, etc. Try different hyperparamater values for this one too.__\n",
        "\n",
        "_Try to optimize generalization performance, evaluated based on ROC Area and cross-validation with 10 folds. Remember to use only the training data (do not use the test data at all for this part). For each of these model types, you should report the best hyperparameter value you found and the corresponding ROC Area from the cross-validation. Your code should also show the process you went through to try different complexity parameter(s) for each model type. Pick one model to move forward with. Why did you select this one?__\n",
        "\n",
        "__HINT: There is an example below of the ROC Area for a DecisionTreeClassifier using cross validation.__  "
      ]
    },
    {
      "cell_type": "code",
      "execution_count": null,
      "metadata": {
        "id": "8Jnmi64Z2CPv"
      },
      "outputs": [],
      "source": [
        "# The code below is just meant as an example of computing an ROC Area using cross validation.\n",
        "\n",
        "from sklearn.tree import DecisionTreeClassifier\n",
        "from sklearn.model_selection import cross_val_score\n",
        "\n",
        "target = \"Churn_Yes\"\n",
        "predictors = df.columns[df.columns != target]\n",
        "example_model = DecisionTreeClassifier()\n",
        "# Remember to only use the training data here!!\n",
        "avg_auc = cross_val_score(example_model, df[predictors], df[target], cv=10, scoring=\"roc_auc\").mean()\n",
        "print(avg_auc)"
      ]
    },
    {
      "cell_type": "code",
      "execution_count": null,
      "metadata": {
        "collapsed": true,
        "id": "f4xmajqV2CPw"
      },
      "outputs": [],
      "source": [
        "# Your code goes here"
      ]
    },
    {
      "cell_type": "markdown",
      "metadata": {
        "id": "d5QTooX42CPx"
      },
      "source": [
        "__4. Use your test data to plot the ROC Curves for each of the three best models you found in the previous question (make sure to plot the three curves together). Would you consider changing your model choice after looking at the curves? If yes, explain why. If not, explain what would the curves need to look like for you to consider choosing a different model.__\n",
        "\n",
        "__HINT: There is an example below of the ROC curve for the DecisionTreeClassifier that was used earlier__"
      ]
    },
    {
      "cell_type": "code",
      "execution_count": null,
      "metadata": {
        "id": "2AqOpFxp2CPx"
      },
      "outputs": [],
      "source": [
        "# The code below is just meant as an example for you to plot the ROC curve.\n",
        "from sklearn.metrics import roc_curve\n",
        "import matplotlib.pyplot as plt\n",
        "\n",
        "# Remember to use the training data here!!\n",
        "example_model.fit(df[predictors], df[target])\n",
        "# And to use the test data here!!\n",
        "probs = example_model.predict_proba(df[predictors])[:, 1]\n",
        "fpr, tpr, thresholds = roc_curve(df[target], probs)\n",
        "plt.plot(fpr, tpr, label=\"An Example\")\n",
        "plt.ylabel(\"True positive rate\")\n",
        "plt.xlabel(\"False positive rate\")\n",
        "plt.legend()\n",
        "plt.show()"
      ]
    },
    {
      "cell_type": "code",
      "execution_count": null,
      "metadata": {
        "collapsed": true,
        "id": "MYB4h76_2CPy"
      },
      "outputs": [],
      "source": [
        "# Your code goes here"
      ]
    },
    {
      "cell_type": "markdown",
      "metadata": {
        "id": "r9MWzvGh2CPy"
      },
      "source": [
        "__5. What would be the potential benefit of stopping someone from leaving? HINT: Take a look at the descriptions of the data and the retention offer.__"
      ]
    },
    {
      "cell_type": "markdown",
      "metadata": {
        "id": "MZyELyv-2CPy"
      },
      "source": [
        "Put your answer here using Markdown."
      ]
    },
    {
      "cell_type": "markdown",
      "metadata": {
        "id": "_w-SmYsA2CPz"
      },
      "source": [
        "__6. Split your training data into two sets, one with 90% of the data (the \"sub-training\" set) and another with 10% of the data (the validation set). Train the model you selected with the \"sub-training\" set, apply it to the validation set, and plot a profit curve by ranking customers according to their probability of churning. You will want to apply this models to customers that are not in the labeled data; make a recommendation of which customers to target with the retention incentive according to this profit curve.__"
      ]
    },
    {
      "cell_type": "code",
      "execution_count": null,
      "metadata": {
        "collapsed": true,
        "id": "M415_k9I2CPz"
      },
      "outputs": [],
      "source": [
        "# Your code goes here"
      ]
    },
    {
      "cell_type": "markdown",
      "metadata": {
        "id": "A2_vrmq_2CPz"
      },
      "source": [
        "__7. Can you think of something better than ranking according to the probability of churning? If so, tell us what it is and plot a profit curve according to this new ranking. Compare the results of the new ranking with the results you got in the previous question. Are the results any better? Would your recommendation change?__"
      ]
    },
    {
      "cell_type": "code",
      "execution_count": null,
      "metadata": {
        "collapsed": true,
        "id": "SApKZ1BM2CPz"
      },
      "outputs": [],
      "source": [
        "# Your code goes here"
      ]
    },
    {
      "cell_type": "markdown",
      "metadata": {
        "id": "FXMN7h2s2CP0"
      },
      "source": [
        "__8. Now the you have chosen a model and a threshold, it is time to evaluate the potential impact of your solution. Use the entire training data to train the model you selected, and then use the trained model on the test data to decide which customers to target with a retention offer. How much money do you estimate that your recommendation would have saved if we had given the retention offer to the customers in the test data?__"
      ]
    },
    {
      "cell_type": "code",
      "execution_count": null,
      "metadata": {
        "collapsed": true,
        "id": "pYdWCB2U2CP0"
      },
      "outputs": [],
      "source": [
        "# Your code goes here"
      ]
    }
  ],
  "metadata": {
    "colab": {
      "provenance": []
    },
    "kernelspec": {
      "display_name": "Python 3",
      "language": "python",
      "name": "python3"
    },
    "language_info": {
      "codemirror_mode": {
        "name": "ipython",
        "version": 3
      },
      "file_extension": ".py",
      "mimetype": "text/x-python",
      "name": "python",
      "nbconvert_exporter": "python",
      "pygments_lexer": "ipython3",
      "version": "3.7.6"
    }
  },
  "nbformat": 4,
  "nbformat_minor": 0
}
