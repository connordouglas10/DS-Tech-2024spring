{
 "cells": [
  {
   "cell_type": "markdown",
   "metadata": {
    "id": "LiZq_0MlNO-A"
   },
   "source": [
    "To open notebook in Colab please click below:\n",
    "\n",
    "<a href=\"https://colab.research.google.com/github/connordouglas10/DS-Tech-2024spring/blob/main/Module0_Basics/Colab%20Basics.ipynb\" target=\"_parent\"> <img src=\"https://colab.research.google.com/assets/colab-badge.svg\" alt=\"Open In Colab\" /> </a>"
   ]
  },
  {
   "cell_type": "markdown",
   "metadata": {
    "id": "DcERPFl940Lt"
   },
   "source": [
    "\n",
    "# Colab Basics\n",
    "Welcome to Colab, Google's Python computing environment! \n",
    "\n",
    "Colaboratory, or Colab for short, is a product from Google Research. It allows anybody to write and execute arbitrary python code through the browser, and is especially well suited to machine learning, data analysis and education.\n",
    "\n"
   ]
  },
  {
   "cell_type": "markdown",
   "metadata": {
    "id": "RPpYJE40J1vd"
   },
   "source": [
    "# Getting Started\n",
    "\n",
    "Google provides many of useful Colab tutorials (some of which are below). But first -- it is super important to **save your notebook to your Google Drive**, so that you do not lose your work. Here is how you save your files:\n",
    "\n",
    "#### 1. Click \"File\" in the top left corner and \"Save to Google Drive\"\n",
    "If prompted, login to your Stern account and grant Colab permission to run (this is an automated \"click-through\" no thought process). \n",
    "\n",
    "![alt text](https://raw.githubusercontent.com/pearl-yu/foster_2022fall/2022-master/Module0_Basics/images/savetodrive.png)\n",
    "\n",
    "#### 2. The notebook will open in a new tab with a google logo (you can now remove the \"Copy of\" from the name if you'd like)\n",
    "\n",
    "![alt text](https://raw.githubusercontent.com/pearl-yu/foster_2022fall/2022-master/Module0_Basics/images/bookindrive.png)\n",
    "\n",
    "#### 3. That's it, now it's in your drive \n",
    "\n",
    "![alt text](https://raw.githubusercontent.com/pearl-yu/foster_2022fall/2022-master/Module0_Basics/images/bookindrive3.png)\n",
    "![alt text](https://raw.githubusercontent.com/pearl-yu/foster_2022fall/2022-master/Module0_Basics/images/bookindrive2.png)\n",
    "\n",
    "You can then access and edit the saved notebook from your Google Drive at anytime. "
   ]
  },
  {
   "cell_type": "markdown",
   "metadata": {
    "id": "D9oZ5-AhJxer"
   },
   "source": [
    "# Using Colab\n",
    "\n",
    "## SAVE EVERY NOTEBOOK ON YOUR GOOGLE DRIVE AS SOON AS YOU OPEN IT!\n",
    "\n",
    "This is super important. If you didn't save the notebook on your Google Drive, all the changes will be lost after closing the notebook.  \n",
    " \n",
    "## Downloading a Notebook -- Necessary for submitting homework\n",
    "\n",
    "\n",
    "Downloading a Colab Notebook is easy, just click \"File\" and then \"Download .ipnyb\":\n",
    "\n",
    "![alt text](https://drive.google.com/uc?id=1Tum_SLoaV2DPMduTosFagAoBtLj1Uvjz)\n",
    "\n",
    "## Other Resources\n",
    "\n",
    "Sometimes, it's important to defer to your betters. Here are three links to people (if corporations are people) that have explained the basics of Colab better than I could.\n",
    "\n",
    "\n",
    "#### 1. [Overview of Colab](https://colab.research.google.com/notebooks/intro.ipynb)\n",
    "\n",
    "\n",
    "\n",
    "#### 2. [Colab Notebooks and how to use them](https://colab.research.google.com/notebooks/basic_features_overview.ipynb) \n"
   ]
  }
 ],
 "metadata": {
  "colab": {
   "include_colab_link": true,
   "provenance": []
  },
  "kernelspec": {
   "display_name": "Python 3 (ipykernel)",
   "language": "python",
   "name": "python3"
  },
  "language_info": {
   "codemirror_mode": {
    "name": "ipython",
    "version": 3
   },
   "file_extension": ".py",
   "mimetype": "text/x-python",
   "name": "python",
   "nbconvert_exporter": "python",
   "pygments_lexer": "ipython3",
   "version": "3.10.13"
  }
 },
 "nbformat": 4,
 "nbformat_minor": 4
}
