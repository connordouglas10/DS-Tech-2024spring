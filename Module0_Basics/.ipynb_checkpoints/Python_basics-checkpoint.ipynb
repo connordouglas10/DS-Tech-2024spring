{
 "cells": [
  {
   "cell_type": "markdown",
   "metadata": {
    "id": "FzWGAK6sK43D"
   },
   "source": [
    "To open notebook in Colab please click below:\n",
    "\n",
    "<a href=\"https://colab.research.google.com/github/connordouglas10/DS-Tech-2024spring/blob/main/Module0_Basics/Python_basics.ipynb\" target=\"_parent\"> <img src=\"https://colab.research.google.com/assets/colab-badge.svg\" alt=\"Open In Colab\" /> </a>"
   ]
  },
  {
   "cell_type": "code",
   "execution_count": 1,
   "metadata": {
    "id": "BC59JrCOTZ2P"
   },
   "outputs": [
    {
     "name": "stdout",
     "output_type": "stream",
     "text": [
      "[WinError 2] The system cannot find the file specified: 'DS-Tech-2024spring/Module0_Basics'\n",
      "C:\\Users\\Admin\\Documents\\GitHub\\DS-Tech-2024spring-ADMIN\\Module0_Basics\n"
     ]
    },
    {
     "name": "stderr",
     "output_type": "stream",
     "text": [
      "Cloning into 'DS-Tech-2024spring'...\n",
      "C:\\Users\\Admin\\anaconda3\\envs\\ds2024\\lib\\site-packages\\IPython\\core\\magics\\osm.py:393: UserWarning: using bookmarks requires you to install the `pickleshare` library.\n",
      "  bkms = self.shell.db.get('bookmarks', {})\n"
     ]
    }
   ],
   "source": [
    "#If opening in colab run this cell\n",
    "!git clone https://github.com/connordouglas10/DS-Tech-2024spring.git\n",
    "%cd DS-Tech-2024spring/Module0_Basics"
   ]
  },
  {
   "cell_type": "markdown",
   "metadata": {
    "id": "yn8zBmCpTZ2Q"
   },
   "source": [
    "# Python basics\n",
    "\n",
    "\n",
    "Spring 2024 - Instructors: Foster Provost and Connor Douglas\n",
    "\n",
    "Teaching Assistant: Connor Douglas\n",
    "\n",
    "***"
   ]
  },
  {
   "cell_type": "markdown",
   "metadata": {
    "id": "TD4ruMSuTZ2R"
   },
   "source": [
    "This notebook shows examples of Python code, including built-in functions, packages and programming structures useful for Data Science and Business Analytics. This should be review for you all!  At the bottom there are some pointers to a few resources."
   ]
  },
  {
   "cell_type": "markdown",
   "metadata": {
    "id": "GRVAeAhSTZ2R"
   },
   "source": [
    "## Python code"
   ]
  },
  {
   "cell_type": "markdown",
   "metadata": {
    "id": "e3AC2NglTZ2R"
   },
   "source": [
    "### 1. Variables, operations and data types\n",
    "Variables are used to store data. \n",
    "The data can be of a variety of types. Here're three types of data for example:  \n",
    "\n",
    "- Integer numbers\n",
    "- Floating (decimal numbers)\n",
    "- Strings\n",
    "\n",
    "The Python character for **variable assignment** is the equal sign (=). Let's create three variables, one of each type, with 3 different names:"
   ]
  },
  {
   "cell_type": "code",
   "execution_count": 2,
   "metadata": {
    "id": "pdaqW6XdTZ2S"
   },
   "outputs": [],
   "source": [
    "some_integer = 5\n",
    "some_float = 7.12\n",
    "some_string = \"Student\""
   ]
  },
  {
   "cell_type": "markdown",
   "metadata": {
    "id": "HNbgNw0zTZ2T"
   },
   "source": [
    "We can **print** out these variables. Remember we need to run the previous cell first!"
   ]
  },
  {
   "cell_type": "code",
   "execution_count": 3,
   "metadata": {
    "id": "qobZB_3DTZ2T"
   },
   "outputs": [
    {
     "name": "stdout",
     "output_type": "stream",
     "text": [
      "5\n",
      "7.12\n",
      "Student\n"
     ]
    }
   ],
   "source": [
    "print (some_integer)\n",
    "print (some_float)\n",
    "print (some_string)"
   ]
  },
  {
   "cell_type": "markdown",
   "metadata": {
    "id": "Gsj_DDbSTZ2U"
   },
   "source": [
    "What if I want to print some text and then some numbers? One easy way to do this is to realize that printing will always **want** string data. \n",
    "\n",
    "If you have data that is not a string (like an integer or float), you can **convert** it to a string: "
   ]
  },
  {
   "cell_type": "code",
   "execution_count": 4,
   "metadata": {
    "id": "5UZG8kO0TZ2U"
   },
   "outputs": [
    {
     "name": "stdout",
     "output_type": "stream",
     "text": [
      "My integer is 5.\n",
      "My float converted into integer is 7.\n"
     ]
    }
   ],
   "source": [
    "print (\"My integer is \" + str(some_integer) + \".\")\n",
    "print (\"My float converted into integer is \" + str( int(some_float) ) + \".\")"
   ]
  },
  {
   "cell_type": "markdown",
   "metadata": {
    "id": "mpWyMNtDTZ2U"
   },
   "source": [
    "What else can we do with our variables? We can do basic math: **operations**."
   ]
  },
  {
   "cell_type": "code",
   "execution_count": 5,
   "metadata": {
    "id": "rpT93fEBTZ2V"
   },
   "outputs": [
    {
     "name": "stdout",
     "output_type": "stream",
     "text": [
      "sum 12.120000000000001\n",
      "multiplication 35.6\n",
      "quotient 0.7022471910112359\n",
      "power 100000\n"
     ]
    }
   ],
   "source": [
    "print (\"sum \" + str( some_integer + some_float ))\n",
    "print (\"multiplication \" + str ( some_integer * some_float ))\n",
    "print (\"quotient \" + str( some_integer / some_float ))\n",
    "print (\"power \" + str( 10**some_integer ))"
   ]
  },
  {
   "cell_type": "markdown",
   "metadata": {
    "id": "fCSLO1bRTZ2V"
   },
   "source": [
    "We can store this as a new variable and print it:"
   ]
  },
  {
   "cell_type": "code",
   "execution_count": 6,
   "metadata": {
    "id": "CyJchyFzTZ2V"
   },
   "outputs": [
    {
     "name": "stdout",
     "output_type": "stream",
     "text": [
      "Sum variable: 12.120000000000001\n"
     ]
    }
   ],
   "source": [
    "my_sum = some_integer + some_float\n",
    "print (\"Sum variable: \" + str( my_sum ))"
   ]
  },
  {
   "cell_type": "markdown",
   "metadata": {
    "id": "gzx7KaNeTZ2V"
   },
   "source": [
    "There are also other **data structures**:\n",
    "\n",
    "- Lists (sometimes refered to as \"arrays\", but look up the difference)\n",
    "- Dictionaries\n",
    "- Sets\n"
   ]
  },
  {
   "cell_type": "code",
   "execution_count": 7,
   "metadata": {
    "id": "kBLbX6H9TZ2W"
   },
   "outputs": [
    {
     "name": "stdout",
     "output_type": "stream",
     "text": [
      "This is a list:  [0, 0, 1, 2, 3, 3, 4.5, 7.6]\n",
      "This is a dictionary:  {'student1': '(929)-000-0000', 'student2': '(917)-000-0000', 'student3': '(470)-000-0000'}\n",
      "This is a set:  {1, 2, 4, 5}\n"
     ]
    }
   ],
   "source": [
    "some_list = [0,0,1,2,3,3,4.5,7.6]\n",
    "some_dictionary = {'student1': '(929)-000-0000', 'student2': '(917)-000-0000', 'student3': '(470)-000-0000'}\n",
    "some_set = set( [1,2,4,4,5,5] )\n",
    "\n",
    "print (\"This is a list:  \" + str(some_list))\n",
    "print (\"This is a dictionary:  \" + str( some_dictionary ))\n",
    "print (\"This is a set:  \" + str( some_set ))"
   ]
  },
  {
   "cell_type": "markdown",
   "metadata": {
    "id": "S0Wug90ATZ2W"
   },
   "source": [
    "How can we use  **individual** elements? \n",
    "\n",
    "In Python (and generally by computer science convention), we count elements of a _list_ starting from zero! To get the first item we should look in the 0th space:\n"
   ]
  },
  {
   "cell_type": "code",
   "execution_count": 8,
   "metadata": {
    "id": "Zodm8699TZ2W"
   },
   "outputs": [
    {
     "name": "stdout",
     "output_type": "stream",
     "text": [
      "0\n"
     ]
    }
   ],
   "source": [
    "print (some_list[0])"
   ]
  },
  {
   "cell_type": "markdown",
   "metadata": {
    "id": "uSpjyDFSTZ2W"
   },
   "source": [
    "Adding things to the end of the list is \"appending\" them:"
   ]
  },
  {
   "cell_type": "code",
   "execution_count": 9,
   "metadata": {
    "id": "qt18VJflTZ2X"
   },
   "outputs": [
    {
     "name": "stdout",
     "output_type": "stream",
     "text": [
      "[0, 0, 1, 2, 3, 3, 4.5, 7.6, 500]\n"
     ]
    }
   ],
   "source": [
    "some_list.append(500)\n",
    "print (some_list)"
   ]
  },
  {
   "cell_type": "markdown",
   "metadata": {
    "id": "X3vVVnjvTZ2X"
   },
   "source": [
    "How can we retrieve an element (**VALUE**) of a _dictionary_ ?  Use its **\"KEY\"** !! "
   ]
  },
  {
   "cell_type": "code",
   "execution_count": 10,
   "metadata": {
    "id": "DwO-222cTZ2X"
   },
   "outputs": [
    {
     "name": "stdout",
     "output_type": "stream",
     "text": [
      "(929)-000-0000\n"
     ]
    }
   ],
   "source": [
    "print (some_dictionary['student1'])"
   ]
  },
  {
   "cell_type": "markdown",
   "metadata": {
    "id": "16cHo-HpTZ2X"
   },
   "source": [
    "For more customizable string creation and printing, python also includes rich formatting capability that may be familiar to developers of other high-level programming language. Some examples are below. In a nutshell, one adds placeholders to the string being constructed. These placeholders always start with a `%` followed by some additional information that determines how the data will be formatted. After the string, another `%` is used, followed by the acutal data that is to be inserted in the prior placeholders. The full capabilities of python string formatting are beyond the scope of this primer, for more info, please consult the [offical documentation](https://docs.python.org/2/library/stdtypes.html#string-formatting)."
   ]
  },
  {
   "cell_type": "code",
   "execution_count": 11,
   "metadata": {
    "id": "c9A1wSk6TZ2X"
   },
   "outputs": [
    {
     "name": "stdout",
     "output_type": "stream",
     "text": [
      "generic STRING formatting, equivalent to the str() functionality seen earlier\n",
      "an example with zero padding an integer 005 and multiple PLACEHOLDERS\n",
      "often one wants to truncate the precision when displaying floats 3.142\n"
     ]
    }
   ],
   "source": [
    "print (\"generic %s formatting, equivalent to the str() functionality seen earlier\" % \"STRING\")\n",
    "print (\"an example with zero padding an integer %003d and multiple %s\" % (5, \"PLACEHOLDERS\"))\n",
    "print (\"often one wants to truncate the precision when displaying floats %.3f\" % 3.1415926536)"
   ]
  },
  {
   "cell_type": "markdown",
   "metadata": {
    "id": "h7kz5DxmTZ2Y"
   },
   "source": [
    "### 2. Create functions"
   ]
  },
  {
   "cell_type": "markdown",
   "metadata": {
    "id": "HlS7_PHiTZ2Y"
   },
   "source": [
    "Functions are essentially blocks of code that you can reference by name. Functions allow us to execute predefined operations and to define our own operations that will be available later.  They encapsulate procedures. You should define functions for steps that you anticipate using multiple times. If you only perform a series of steps once or twice, you probably do not need to define a function. \n",
    "\n",
    "(*If you haven't thought this through before, consider the drawback of repeated code: what if later you realize that you need to fix something in that code block.  You'd have to go through and fix it everywhere.*) \n",
    "\n",
    "Functions are created using the **def** statement, following the same indented code structure as a conditional or a loop.\n",
    "\n",
    "```\n",
    "def function_name(inputs):\n",
    "    statements\n",
    "    return object(s) # optional\n",
    "```\n",
    "\n",
    "For example, consider having to calculate the area of a circle."
   ]
  },
  {
   "cell_type": "code",
   "execution_count": 12,
   "metadata": {
    "id": "U2OBQVCQTZ2Y"
   },
   "outputs": [],
   "source": [
    "## define a function to calculate the area of a circle\n",
    "def area_of_a_circle(radius):\n",
    "    area = 3.1416 * radius ** 2\n",
    "    return area"
   ]
  },
  {
   "cell_type": "code",
   "execution_count": 13,
   "metadata": {
    "id": "fuAnwpKMTZ2Y"
   },
   "outputs": [
    {
     "name": "stdout",
     "output_type": "stream",
     "text": [
      "Area of a circle with radius 5 is: 78.53999999999999\n"
     ]
    }
   ],
   "source": [
    "## call a function \n",
    "circle_area = area_of_a_circle(5)\n",
    "print (\"Area of a circle with radius 5 is: \" + str( circle_area))"
   ]
  },
  {
   "cell_type": "markdown",
   "metadata": {
    "id": "Ah487XdUTZ2Y"
   },
   "source": [
    "Can you see what is going on here? My function that I helpfully named `\"area_of_a_circle\"` takes one **argument** that we will call radius. It then uses this radius to get the area and then *returns* it. Now, whenever I want to get the area of some circle, I simply call `area_of_a_circle()` and place the radius in the middle of the parentheses."
   ]
  },
  {
   "cell_type": "markdown",
   "metadata": {
    "id": "C7V5LW-aTZ2Y"
   },
   "source": [
    "### 3. Loops / iterations"
   ]
  },
  {
   "cell_type": "markdown",
   "metadata": {
    "id": "zql_HgDwTZ2Y"
   },
   "source": [
    "For data analysis we do a lot of repetitive things. This doesn't mean we need to do a ton of copy and pasting, though. We can use **loops** to make this easy. Loops are used to perform a series of steps repeatedly. As a very simple example, what if we wanted to square each number from 1 to 5?"
   ]
  },
  {
   "cell_type": "code",
   "execution_count": 14,
   "metadata": {
    "id": "5vumSLr1TZ2Z"
   },
   "outputs": [
    {
     "name": "stdout",
     "output_type": "stream",
     "text": [
      "1\n",
      "4\n",
      "9\n",
      "16\n",
      "25\n"
     ]
    }
   ],
   "source": [
    "for number in [1, 2, 3, 4, 5]:\n",
    "    print (number * number)"
   ]
  },
  {
   "cell_type": "markdown",
   "metadata": {
    "id": "crJNP5faTZ2Z"
   },
   "source": [
    "Let's use the function we did before. Remember this is a function that can only be used in **this notebook** \n",
    "\n",
    "( unless we write a **\"script\"** file, but we'll see that later... ):"
   ]
  },
  {
   "cell_type": "code",
   "execution_count": 15,
   "metadata": {
    "id": "n4ikFCoVTZ2Z"
   },
   "outputs": [
    {
     "name": "stdout",
     "output_type": "stream",
     "text": [
      "Area of circle with radius 1 is: 3.1416\n",
      "Area of circle with radius 2 is: 12.5664\n",
      "Area of circle with radius 3 is: 28.2744\n",
      "Area of circle with radius 4 is: 50.2656\n",
      "Area of circle with radius 5 is: 78.53999999999999\n"
     ]
    }
   ],
   "source": [
    "for number in [1, 2, 3, 4, 5]:\n",
    "    print (\"Area of circle with radius \" + str(number) + \" is: \" + str( area_of_a_circle(number) ))"
   ]
  },
  {
   "cell_type": "markdown",
   "metadata": {
    "id": "cfXRCswUTZ2Z"
   },
   "source": [
    "### 4. Conditionals and comparisons"
   ]
  },
  {
   "cell_type": "markdown",
   "metadata": {
    "id": "K0_jECy0TZ2Z"
   },
   "source": [
    "Sometimes we need to check something before deciding what to do next. \n",
    "\n",
    "**if** statements are the most common type of conditional. They allow you to execute a different set of statements under different conditions.\n",
    "\n",
    "For example,"
   ]
  },
  {
   "cell_type": "code",
   "execution_count": 16,
   "metadata": {
    "id": "OFMyxWg5TZ2Z"
   },
   "outputs": [],
   "source": [
    "def is_best_prof(name):\n",
    "    if name == \"Foster\":\n",
    "        return True\n",
    "    else:\n",
    "        return False"
   ]
  },
  {
   "cell_type": "code",
   "execution_count": 17,
   "metadata": {
    "id": "QO8sGbslTZ2Z"
   },
   "outputs": [
    {
     "name": "stdout",
     "output_type": "stream",
     "text": [
      "True\n"
     ]
    }
   ],
   "source": [
    "print (is_best_prof(\"Foster\"))"
   ]
  },
  {
   "cell_type": "code",
   "execution_count": 18,
   "metadata": {
    "id": "wrwXOjl5TZ2a"
   },
   "outputs": [
    {
     "name": "stdout",
     "output_type": "stream",
     "text": [
      "False\n"
     ]
    }
   ],
   "source": [
    "print (is_best_prof(\"John\"))"
   ]
  },
  {
   "cell_type": "code",
   "execution_count": 19,
   "metadata": {
    "id": "1O8TD49cTZ2a"
   },
   "outputs": [
    {
     "name": "stdout",
     "output_type": "stream",
     "text": [
      "You're going to have a great semester!\n"
     ]
    }
   ],
   "source": [
    "my_prof = \"Foster\"\n",
    "if is_best_prof(my_prof):\n",
    "    print(\"You're going to have a great semester!\")\n",
    "else:\n",
    "    print(\"Well, make the best of it!\")"
   ]
  },
  {
   "cell_type": "markdown",
   "metadata": {
    "id": "pc8ttyh_TZ2a"
   },
   "source": [
    "You see in that last one how we have a conditional in the cell, and then call a function that has a conditional inside it?  \n",
    "\n",
    "Let's put a whole bunch of these things together:"
   ]
  },
  {
   "cell_type": "code",
   "execution_count": 20,
   "metadata": {
    "id": "bFT__rAsTZ2a"
   },
   "outputs": [
    {
     "name": "stdout",
     "output_type": "stream",
     "text": [
      "Well, make the best of it!\n"
     ]
    }
   ],
   "source": [
    "my_profs = [\"John\", \"Paul\", \"George\", \"Ringo\"]\n",
    "one_best = False\n",
    "for prof in my_profs:\n",
    "    if is_best_prof(prof):\n",
    "        one_best = True\n",
    "if one_best:\n",
    "    print(\"You're going to have a great semester!\")\n",
    "else:\n",
    "    print(\"Well, make the best of it!\")"
   ]
  },
  {
   "cell_type": "markdown",
   "metadata": {
    "id": "-KOOn-8ITZ2a"
   },
   "source": [
    "As we can see here, we made **comparison** of names with the \"equal\" operation  (==).  Remember ... it's == not just = !\n",
    "\n",
    "Other comparisons:\n",
    "\n",
    "- strictly less than  < \n",
    "- less than or equal  <=\n",
    "- strictly greater than  >\n",
    "- greater than or equal  >=\n",
    "- not equal  !=\n",
    "- object identity  \"is\"\n",
    "- negated object identity \"is not\"\n",
    "\n",
    "What if we want to compare more than one element? \n",
    "We should include logical operations such as:\n",
    "\n",
    "- \"and\", also known as \"&\" \n",
    "- \"or\", also known as \"|\"\n",
    "\n",
    "Let's see if you can guess my age with this function!!\n"
   ]
  },
  {
   "cell_type": "code",
   "execution_count": 21,
   "metadata": {
    "id": "IdIKwappTZ2a"
   },
   "outputs": [],
   "source": [
    "def is_my_age(age_argument):\n",
    "    if age_argument < 20:\n",
    "        return \"Of course not!\"\n",
    "    elif (age_argument >= 20) & (age_argument <= 40):\n",
    "        return \"Maybe..\"\n",
    "    elif age_argument > 40:\n",
    "        return \"Don't even think about it!\""
   ]
  },
  {
   "cell_type": "code",
   "execution_count": 22,
   "metadata": {
    "id": "NIRxufVbTZ2a"
   },
   "outputs": [
    {
     "name": "stdout",
     "output_type": "stream",
     "text": [
      "Of course not!\n"
     ]
    }
   ],
   "source": [
    "print (is_my_age(10))"
   ]
  },
  {
   "cell_type": "code",
   "execution_count": 23,
   "metadata": {
    "id": "ug3BZVepTZ2b"
   },
   "outputs": [
    {
     "name": "stdout",
     "output_type": "stream",
     "text": [
      "Maybe..\n"
     ]
    }
   ],
   "source": [
    "print (is_my_age(23))"
   ]
  },
  {
   "cell_type": "code",
   "execution_count": 24,
   "metadata": {
    "id": "yrNIeQkxTZ2b"
   },
   "outputs": [
    {
     "name": "stdout",
     "output_type": "stream",
     "text": [
      "Don't even think about it!\n"
     ]
    }
   ],
   "source": [
    "print (is_my_age(80))"
   ]
  },
  {
   "cell_type": "markdown",
   "metadata": {
    "id": "Cxx7oU0nTZ2b"
   },
   "source": [
    "## Help, help, and more help!"
   ]
  },
  {
   "cell_type": "markdown",
   "metadata": {
    "id": "Ec5tcOBiTZ2b"
   },
   "source": [
    "- [Codecademy's Python Course](https://www.codecademy.com/learn/learn-python-3). Working though this class will give you a _great_ foundation for Python.\n",
    "- [Python for Data Analysis](https://www.amazon.com/Python-Data-Analysis-Wrangling-IPython-ebook/dp/B009NLMB8Q/ref=mt_kindle?_encoding=UTF8&me=) was the book that Prof. Foster suggested to prior iterations of this course. You can take a look at the chapters: Preliminaries, Introductory Examples (e.g. \"Counting Time Zones with pandas”), IPython (page 46 to 62) and specially, Pandas--one of the main Python packages for data analysis.  We will work with Pandas in class.\n",
    "- [Pandas Cookbook](https://www.amazon.com/Pandas-Cookbook-Scientific-Computing-Visualization/dp/1784393878) is another great resource to learn Pandas. It has lots of practice problems with detailed solutions in IPython notebooks.\n",
    "\n",
    "\n",
    "If you are ever stuck just remember: it is normal. This is actually how professional programmers work every day. Google is your best friend. `stackoverflow`, a popular programming question and answer site, has an extremely rich repository of solutions to problems that people have encountered, and many capable participants provide answers to those mysterious and rare problems that have not been addressed before. Just remember to look thoroughly before you ask! \n",
    "\n",
    "Finally, programming is a creative process- it can't be brute forced. It's natural to get stuck or frustrated from time to time, even with the incredible resources that are now available. Imagine an author trying to find the perfect paragraph to describe a character. In these situations, I like to go for a walk, listen to some music, or get some exercise. Anything to clear my head. From experience, many seemingly hard programming problems have become solvable only after introducing some fresh perspective, and being stuck while beating your head on the keyboard just isn't fun. "
   ]
  },
  {
   "cell_type": "code",
   "execution_count": null,
   "metadata": {},
   "outputs": [],
   "source": []
  }
 ],
 "metadata": {
  "colab": {
   "include_colab_link": true,
   "provenance": []
  },
  "kernelspec": {
   "display_name": "Python 3 (ipykernel)",
   "language": "python",
   "name": "python3"
  },
  "language_info": {
   "codemirror_mode": {
    "name": "ipython",
    "version": 3
   },
   "file_extension": ".py",
   "mimetype": "text/x-python",
   "name": "python",
   "nbconvert_exporter": "python",
   "pygments_lexer": "ipython3",
   "version": "3.10.13"
  }
 },
 "nbformat": 4,
 "nbformat_minor": 4
}
