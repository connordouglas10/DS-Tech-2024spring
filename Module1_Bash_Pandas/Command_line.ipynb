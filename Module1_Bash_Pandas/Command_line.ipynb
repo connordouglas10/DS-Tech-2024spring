{
 "cells": [
  {
   "cell_type": "markdown",
   "metadata": {
    "colab_type": "text",
    "id": "view-in-github"
   },
   "source": [
    "<a href=\"https://colab.research.google.com/github/connordouglas10/DS-Tech-2024spring/blob/main/Module1_Bash_Pandas/Command_line.ipynb\" target=\"_parent\"> <img src=\"https://colab.research.google.com/assets/colab-badge.svg\" alt=\"Open In Colab\" /> </a>"
   ]
  },
  {
   "cell_type": "code",
   "execution_count": 1,
   "metadata": {
    "id": "uhD4O15AS0_S"
   },
   "outputs": [
    {
     "name": "stdout",
     "output_type": "stream",
     "text": [
      "C:\\Users\\Admin\\Documents\\GitHub\\DS-Tech-2024spring-ADMIN\\Module1_Bash_Pandas\\DS-Tech-2024spring\\Module1_Bash_Pandas\n"
     ]
    },
    {
     "name": "stderr",
     "output_type": "stream",
     "text": [
      "Cloning into 'DS-Tech-2024spring'...\n",
      "C:\\Users\\Admin\\anaconda3\\envs\\ds2024\\lib\\site-packages\\IPython\\core\\magics\\osm.py:417: UserWarning: using dhist requires you to install the `pickleshare` library.\n",
      "  self.shell.db['dhist'] = compress_dhist(dhist)[-100:]\n"
     ]
    }
   ],
   "source": [
    "#If opening in colab run this cell\n",
    "!git clone https://github.com/connordouglas10/DS-Tech-2024spring.git\n",
    "%cd DS-Tech-2024spring/Module1_Bash_Pandas/"
   ]
  },
  {
   "cell_type": "markdown",
   "metadata": {
    "id": "CRSOVTGxS0_U"
   },
   "source": [
    "# Command line\n",
    "\n",
    "\n",
    "Spring 2024 - Instructors: Foster Provost and Connor Douglas\n",
    "\n",
    "Teaching Assistant: Connor Douglas\n",
    "\n",
    "***"
   ]
  },
  {
   "cell_type": "markdown",
   "metadata": {
    "id": "JlewtKpXS0_V"
   },
   "source": [
    "## Command Line (Terminal)"
   ]
  },
  {
   "cell_type": "markdown",
   "metadata": {
    "id": "ftEAeXcWS0_W"
   },
   "source": [
    "One of the most underappreciated tools for dealing with data is the command line of the unix/linux operating system. As you probably know, an operating system runs computer-based devices, including servers, laptops, smartphones, and many others, usually \"under the hood\".   \"Unix\" is the family of operating systems that runs the most devices.  If you have a Mac -- there's Unix under the hood.  An iPhone?  Unix under the hood. An Android phone? Guess what ... Unix under the hood.  And what are you running on now, in the cloud?  You guessed it. (But Windows machines?  Not Unix.)\n",
    "\n",
    "You can get under the hood of a Unix-based computer via the command line, often called the Terminal, and do all manner of crazy things.  We will study a few of them.\n",
    "\n",
    "We can access the command line of our cloud machines through the Jupyter/Colab Notebooks. You can use \"shell\" commands (such as the following) by prefixing the command with an exclamation point.\n",
    "\n",
    "(The \"shell\" is a technical name for the command line interface you see in a Terminal window.  There are actually different shells with different commands & syntax, even for the same operating system, but we won't delve into that in this class.  We will use the particular shell that Colab provides us by default.  The default is the \"bash\" shell, for those of you who care.)\n",
    "\n",
    "*Here we will give you a brief overview, and show some very useful commands.  If you're serious about dealing with data, and you don't have much command-line experience, you should get the book [Data Science at the Command Line](https://datascienceatthecommandline.com/) by Janssens. The first half of this (remarkably thin) book gives an excellent practical guide to dealing with data at the Unix command line.*\n"
   ]
  },
  {
   "cell_type": "markdown",
   "metadata": {
    "id": "rt0DndMJS0_X"
   },
   "source": [
    "#### Interaction with files and folders\n",
    "\n",
    "We can navigate the folder structure in which we are working.  Folders are called \"directories\". You will typically use commands such as `ls` (list directory contents) and `cd` (change to another directory--but wait on that for a second). You can make a directory with `mkdir` or move (`mv`) and copy (`cp`) files. To delete a file you can `rm` (remove) it--careful, there's no getting it back.  To see the contents of a file you can `cat` it to the screen.  (Why `cat`?  That command actually concatenates multiple files and outputs the result.  If you give it one, then it just outputs that single file.  The default is to output it to the screen.  You'll see below that we can send command outputs elsewhere besides to the screen--like into another command!)\n",
    "\n",
    "Many commands have options you can set when running them. For example to get a listing of files as a vertical list with extra details you can call ls with the `-l` (list) flag, i.e., `ls -l`. During the normal course of using the command line, you will learn the most useful flags. If you want to see all possible options you can always read the `man` (manual) page for a command, e.g. `man ls`. When you are done reading the `man` page, you can exit by hitting `q` to quit.\n"
   ]
  },
  {
   "cell_type": "code",
   "execution_count": 2,
   "metadata": {
    "id": "zPVT9hmIS0_Z"
   },
   "outputs": [
    {
     "name": "stderr",
     "output_type": "stream",
     "text": [
      "'ls' is not recognized as an internal or external command,\n",
      "operable program or batch file.\n"
     ]
    }
   ],
   "source": [
    "## list directory contents\n",
    "!ls"
   ]
  },
  {
   "cell_type": "code",
   "execution_count": 3,
   "metadata": {
    "id": "R_FLxcwsS0_b"
   },
   "outputs": [
    {
     "name": "stderr",
     "output_type": "stream",
     "text": [
      "'ls' is not recognized as an internal or external command,\n",
      "operable program or batch file.\n"
     ]
    }
   ],
   "source": [
    "## list detailed directory contents\n",
    "!ls -l"
   ]
  },
  {
   "cell_type": "code",
   "execution_count": null,
   "metadata": {
    "collapsed": true,
    "id": "d6pA1ssYS0_c",
    "jupyter": {
     "outputs_hidden": true
    }
   },
   "outputs": [],
   "source": [
    "## make a directory\n",
    "!mkdir test"
   ]
  },
  {
   "cell_type": "code",
   "execution_count": null,
   "metadata": {
    "collapsed": true,
    "id": "3XTRnEgbS0_d",
    "jupyter": {
     "outputs_hidden": true
    }
   },
   "outputs": [],
   "source": [
    "!ls"
   ]
  },
  {
   "cell_type": "markdown",
   "metadata": {
    "id": "wS_gO3MyS0_e"
   },
   "source": [
    "Ok, so above we said to wait on changing directories for a second.  That's the `cd` command.  But watch this -- normally you'd think this would put you in the `data` directory:"
   ]
  },
  {
   "cell_type": "code",
   "execution_count": null,
   "metadata": {
    "collapsed": true,
    "id": "ItFluj3mS0_h",
    "jupyter": {
     "outputs_hidden": true
    }
   },
   "outputs": [],
   "source": [
    "!cd data"
   ]
  },
  {
   "cell_type": "code",
   "execution_count": null,
   "metadata": {
    "id": "fcix8vyW_RV5"
   },
   "outputs": [],
   "source": [
    "## Display the path of current directory\n",
    "!pwd"
   ]
  },
  {
   "cell_type": "code",
   "execution_count": null,
   "metadata": {
    "collapsed": true,
    "id": "SjgXM3toS0_i",
    "jupyter": {
     "outputs_hidden": true
    }
   },
   "outputs": [],
   "source": [
    "!ls"
   ]
  },
  {
   "cell_type": "markdown",
   "metadata": {
    "id": "-ni7MUGkS0_j"
   },
   "source": [
    "NOTICE .. when you `ls` you see that you are still in the same directory you were below.  (See the same contents, including the `data` directory there.)\n",
    "\n",
    "Understanding why requires understanding how unix works, so we won't go into it here.  (Ok, the bottom line is that the way the Jupyter notebooks work, using the `!` command they essentially create a process, change the directory in that new process, and then exit the process, leaving you back where you were.)  The trick here is to use the `%` instead of `!`.  A minor pain to remember, but..."
   ]
  },
  {
   "cell_type": "code",
   "execution_count": null,
   "metadata": {
    "collapsed": true,
    "id": "vUa6P1yQS0_k",
    "jupyter": {
     "outputs_hidden": true
    }
   },
   "outputs": [],
   "source": [
    "%cd data"
   ]
  },
  {
   "cell_type": "code",
   "execution_count": null,
   "metadata": {
    "id": "AcKeLiEL_ekJ"
   },
   "outputs": [],
   "source": [
    "## Display the path of current directory\n",
    "!pwd"
   ]
  },
  {
   "cell_type": "code",
   "execution_count": null,
   "metadata": {
    "collapsed": true,
    "id": "q01JdOKwS0_l",
    "jupyter": {
     "outputs_hidden": true
    }
   },
   "outputs": [],
   "source": [
    "!ls"
   ]
  },
  {
   "cell_type": "code",
   "execution_count": null,
   "metadata": {
    "collapsed": true,
    "id": "J3iGHhtVS0_m",
    "jupyter": {
     "outputs_hidden": true
    }
   },
   "outputs": [],
   "source": [
    "## copy files (to directory)\n",
    "!cp users.csv users2.csv"
   ]
  },
  {
   "cell_type": "code",
   "execution_count": null,
   "metadata": {
    "collapsed": true,
    "id": "F8JC64Z0S0_m",
    "jupyter": {
     "outputs_hidden": true
    }
   },
   "outputs": [],
   "source": [
    "!ls"
   ]
  },
  {
   "cell_type": "markdown",
   "metadata": {
    "id": "hxBiiiydS0_n"
   },
   "source": [
    "To go back up a directory, we use `..` like this:"
   ]
  },
  {
   "cell_type": "code",
   "execution_count": null,
   "metadata": {
    "collapsed": true,
    "id": "el1fOQ6KS0_o",
    "jupyter": {
     "outputs_hidden": true
    }
   },
   "outputs": [],
   "source": [
    "## navigate to parent directory\n",
    "%cd .."
   ]
  },
  {
   "cell_type": "code",
   "execution_count": null,
   "metadata": {
    "collapsed": true,
    "id": "kBTvvODyS0_p",
    "jupyter": {
     "outputs_hidden": true
    }
   },
   "outputs": [],
   "source": [
    "!ls"
   ]
  },
  {
   "cell_type": "code",
   "execution_count": null,
   "metadata": {
    "collapsed": true,
    "id": "ktlzUIaQS0_x",
    "jupyter": {
     "outputs_hidden": true
    }
   },
   "outputs": [],
   "source": [
    "!ls test/"
   ]
  },
  {
   "cell_type": "code",
   "execution_count": null,
   "metadata": {
    "collapsed": true,
    "id": "NvkquEwPS0_y",
    "jupyter": {
     "outputs_hidden": true
    }
   },
   "outputs": [],
   "source": [
    "# WARNING: THIS WILL DELETE THE TEST FOLDER AND THE FILE JUST CREATED\n",
    "!rm -rf test/\n",
    "!rm data/users2.csv"
   ]
  },
  {
   "cell_type": "code",
   "execution_count": null,
   "metadata": {
    "id": "DWcGTqBCS0_y"
   },
   "outputs": [],
   "source": [
    "!ls"
   ]
  },
  {
   "cell_type": "markdown",
   "metadata": {
    "id": "y-lDK050S0_0"
   },
   "source": [
    "#### Data manipulation and exploration\n",
    "That was just some super-simple stuff.\n",
    "\n",
    "**The command line is a power tool.** Virtually anything you want to do with a data file can be done at the command line. There are dozens of commands that can be put together to get almost any result! Let's try it.\n",
    "\n",
    "Lets take a look at the the file `data/users.csv`.\n",
    "\n",
    "Before we do anything, lets take a look at the first few lines of the file to get an idea of what's in it."
   ]
  },
  {
   "cell_type": "code",
   "execution_count": null,
   "metadata": {
    "collapsed": true,
    "id": "Zdj6bcyES0_0",
    "jupyter": {
     "outputs_hidden": true
    }
   },
   "outputs": [],
   "source": [
    "!head data/users.csv"
   ]
  },
  {
   "cell_type": "markdown",
   "metadata": {
    "id": "B8vqU0U_S0_0"
   },
   "source": [
    "Maybe we want to see a few more lines of the file,"
   ]
  },
  {
   "cell_type": "code",
   "execution_count": null,
   "metadata": {
    "collapsed": true,
    "id": "i5nN198gS0_1",
    "jupyter": {
     "outputs_hidden": true
    }
   },
   "outputs": [],
   "source": [
    "!head -15 data/users.csv"
   ]
  },
  {
   "cell_type": "markdown",
   "metadata": {
    "id": "kx6yq1ixS0_2"
   },
   "source": [
    "How about the last few lines of the file?"
   ]
  },
  {
   "cell_type": "code",
   "execution_count": null,
   "metadata": {
    "collapsed": true,
    "id": "C2o5kDr0S0_2",
    "jupyter": {
     "outputs_hidden": true
    }
   },
   "outputs": [],
   "source": [
    "!tail data/users.csv"
   ]
  },
  {
   "cell_type": "markdown",
   "metadata": {
    "id": "Xt5Y6ozmS0_3"
   },
   "source": [
    "We can count how many lines are in the file by using `wc` (wordcount--which counts more than just words) with the `-l` flag to count lines,"
   ]
  },
  {
   "cell_type": "code",
   "execution_count": null,
   "metadata": {
    "id": "mzVID3eAS0_3"
   },
   "outputs": [],
   "source": [
    "!wc -l data/users.csv"
   ]
  },
  {
   "cell_type": "markdown",
   "metadata": {
    "id": "5XLddSt7S0_3"
   },
   "source": [
    "It looks like there are three columns in this file, lets take a look at the first one alone. Here, we can `cut` the field (`-f`) we want as long as we give the proper delimeter to tell what separates fields (`-d` defaults to tab)."
   ]
  },
  {
   "cell_type": "code",
   "execution_count": null,
   "metadata": {
    "collapsed": true,
    "id": "nETUCVbsS0_6",
    "jupyter": {
     "outputs_hidden": true
    }
   },
   "outputs": [],
   "source": [
    "!cut -f1 -d',' data/users.csv"
   ]
  },
  {
   "cell_type": "markdown",
   "metadata": {
    "id": "o27Lof7XS0_7"
   },
   "source": [
    "That's a lot of output. Let's combine the `cut` command with the `head` command by *piping* the output of one command into another command.  The vertical bar `|` is the *pipe*."
   ]
  },
  {
   "cell_type": "code",
   "execution_count": null,
   "metadata": {
    "collapsed": true,
    "id": "vAq6veR-S0_7",
    "jupyter": {
     "outputs_hidden": true
    }
   },
   "outputs": [],
   "source": [
    "!cut -f1 -d',' data/users.csv | head"
   ]
  },
  {
   "cell_type": "markdown",
   "metadata": {
    "id": "wTXEvlJrS1AJ"
   },
   "source": [
    "We can use pipes (`|`) to string together many commands to create very powerful one-liners. For example, let's figure out the number of _unique_ users in the first column of the data file. We will get all the values from the first column, sort them, reduce that to only the unique values, and then count the number of lines in the result:"
   ]
  },
  {
   "cell_type": "code",
   "execution_count": null,
   "metadata": {
    "collapsed": true,
    "id": "jghRASr1S1AK",
    "jupyter": {
     "outputs_hidden": true
    }
   },
   "outputs": [],
   "source": [
    "!cut -f1 -d',' data/users.csv | sort | uniq | wc -l"
   ]
  },
  {
   "cell_type": "markdown",
   "metadata": {
    "id": "5hj21HaBS1AM"
   },
   "source": [
    "Or, we can get a list of the top-10 most frequently occuring users. If we give `uniq` the `-c` flag, it will return the number of times each value occurs. Since these counts are the first entry in each new line, we can `sort` the results according to numerical values (`-n`) in reverse (`-r`) order. Note, that when you want to use two or more single letter flags, you can just place them one after another."
   ]
  },
  {
   "cell_type": "code",
   "execution_count": null,
   "metadata": {
    "collapsed": true,
    "id": "A6P0VqBuS1AM",
    "jupyter": {
     "outputs_hidden": true
    }
   },
   "outputs": [],
   "source": [
    "!cut -f1 -d',' data/users.csv | sort | uniq -c | sort -nr | head"
   ]
  },
  {
   "cell_type": "markdown",
   "metadata": {
    "id": "3Yl0ImIPS1AM"
   },
   "source": [
    "**Don't freak out at this point.**  Of course if you've never used this before, you're not expected to master all that at once.  The point here is to show how powerful a data manipulation tool the Unix command-line can be.  You can get resources (like the thin book mentioned above) to teach you and to use as a reference.  Using this notebook you should be able to use these particular commands in different ways by changing (and experimenting with) the flags."
   ]
  },
  {
   "cell_type": "markdown",
   "metadata": {
    "id": "U_lfEiRmS1AN"
   },
   "source": [
    "After some exploration we decide we want to keep only part of our data and bring it into a new file. Let's find all the records that have a negative value in the second and third columns and put these results in a file called `data/negative_users.csv`. Searching through files can be done using _[regular expressions](http://www.robelle.com/smugbook/regexpr.html#expression)_ with a tool called `grep` (Global Regular Expression Printer). \n",
    "\n",
    "And do you remember that we can send the output of a command to the screen or into another command?  You can also direct output of a command (or a string of commands) into a file using the \"redirection\" operator `>`.  (NB: the pipe is also a redirection operator.  Another redirection operator is `>>`, which concatenates the output to the end of the file, rather than overwriting it.)"
   ]
  },
  {
   "cell_type": "code",
   "execution_count": null,
   "metadata": {
    "collapsed": true,
    "id": "hq8-c7dtS1AN",
    "jupyter": {
     "outputs_hidden": true
    }
   },
   "outputs": [],
   "source": [
    "!grep '.*,-.*,-.*' data/users.csv > data/negative_users.csv"
   ]
  },
  {
   "cell_type": "markdown",
   "metadata": {
    "id": "ZEEfn5N7S1AO"
   },
   "source": [
    "(You'll have to look into the regular expression link to figure that one out.)"
   ]
  },
  {
   "cell_type": "code",
   "execution_count": null,
   "metadata": {
    "collapsed": true,
    "id": "0oDrc8lwS1AO",
    "jupyter": {
     "outputs_hidden": true
    }
   },
   "outputs": [],
   "source": [
    "!ls data"
   ]
  },
  {
   "cell_type": "code",
   "execution_count": null,
   "metadata": {
    "id": "sqdPmYrw3ttC"
   },
   "outputs": [],
   "source": [
    "!head data/negative_users.csv"
   ]
  }
 ],
 "metadata": {
  "colab": {
   "include_colab_link": true,
   "name": "Command_line.ipynb",
   "provenance": []
  },
  "kernelspec": {
   "display_name": "Python 3 (ipykernel)",
   "language": "python",
   "name": "python3"
  },
  "language_info": {
   "codemirror_mode": {
    "name": "ipython",
    "version": 3
   },
   "file_extension": ".py",
   "mimetype": "text/x-python",
   "name": "python",
   "nbconvert_exporter": "python",
   "pygments_lexer": "ipython3",
   "version": "3.10.13"
  }
 },
 "nbformat": 4,
 "nbformat_minor": 4
}
