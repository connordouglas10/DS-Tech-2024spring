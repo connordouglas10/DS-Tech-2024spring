{
  "cells": [
    {
      "cell_type": "markdown",
      "metadata": {
        "id": "view-in-github",
        "colab_type": "text"
      },
      "source": [
        "<a href=\"https://colab.research.google.com/github/RubingLi123/foster_2023spring/blob/2023sp-master/Module4_Regularization/Regularization_and_learning_curves.ipynb\" target=\"_parent\"><img src=\"https://colab.research.google.com/assets/colab-badge.svg\" alt=\"Open In Colab\"/></a>"
      ]
    },
    {
      "cell_type": "code",
      "execution_count": null,
      "metadata": {
        "id": "gYOOKQQaKKhZ",
        "collapsed": true
      },
      "outputs": [],
      "source": [
        "#If opening in colab run this cell\n",
        "!git clone https://github.com/RubingLi123/foster_2023spring.git\n",
        "%cd foster_2023spring/Module4_Regularization/"
      ]
    },
    {
      "cell_type": "markdown",
      "metadata": {
        "id": "5USL5wLeKKhz"
      },
      "source": [
        "# Regularization and Learning Curves\n",
        "\n",
        "\n",
        "Spring 2023 - Instructors: Foster Provost and Rubing Li\n",
        "Teaching Assistant: Rubing Li\n",
        "\n",
        "***"
      ]
    },
    {
      "cell_type": "markdown",
      "metadata": {
        "id": "DKV3fjQXKKh2"
      },
      "source": [
        "Import all of the packages we will need."
      ]
    },
    {
      "cell_type": "code",
      "execution_count": null,
      "metadata": {
        "id": "3M0-d7wzKKh4"
      },
      "outputs": [],
      "source": [
        "# Import the libraries we will be using\n",
        "import numpy as np\n",
        "import pandas as pd\n",
        "from sklearn.linear_model import LogisticRegression\n",
        "from sklearn.svm import SVC\n",
        "from sklearn import metrics\n",
        "\n",
        "import matplotlib.pylab as plt\n",
        "%matplotlib inline\n",
        "plt.rcParams['figure.figsize'] = 10, 8\n",
        "\n",
        "# Our custom libraries!\n",
        "import sys\n",
        "sys.path.append(\"..\")\n",
        "from ds_utils.decision_surface import *"
      ]
    },
    {
      "cell_type": "markdown",
      "metadata": {
        "id": "2a8RYujlKKiB"
      },
      "source": [
        "### Complexity control, revisited\n",
        "\n",
        "Recall that one of the most important fundamental principles underlying data science, the basis for machine learning, is *complexity control*.  We must manage the tension between allowing ourselves to fit complex patterns in the data (a good thing), and the tendency to fit idiosyncracies in a particular data set--things that do not generalize (a bad thing).  So, we attempt to control complexity.  One way to control complexity is just not to allow our data mining procedure to fit complex models in the first place.  That's what we do when we build linear models from small sets of features.  But let's consider the case where we think larger feature sets or non-linearities might add important predictive power--so we will attempt to control complexity in a data-driven fashion.\n",
        "\n",
        "We will be using concrete data -- really ... data about concrete. The data set consists of several compressive strength tests for various types of concrete."
      ]
    },
    {
      "cell_type": "code",
      "execution_count": null,
      "metadata": {
        "collapsed": true,
        "id": "GDQX5wjDKKiE"
      },
      "outputs": [],
      "source": [
        "concrete_url = \"https://www.openml.org/data/get_csv/1762521/phpZGl7F2\"\n",
        "concrete_df = pd.read_csv(concrete_url).dropna()\n",
        "concrete_df.rename(columns={\n",
        "    \"Cement (component 1)(kg in a m^3 mixture)\"             : \"cement\",\n",
        "    \"Blast Furnace Slag (component 2)(kg in a m^3 mixture)\" : \"slag\",\n",
        "    \"Fly Ash (component 3)(kg in a m^3 mixture)\"            : \"fly_ash\",\n",
        "    \"Water  (component 4)(kg in a m^3 mixture)\"             : \"water\",\n",
        "    \"Superplasticizer (component 5)(kg in a m^3 mixture)\"   : \"superplasticizer\",\n",
        "    \"Coarse Aggregate  (component 6)(kg in a m^3 mixture)\"  : \"coarse_agg\",\n",
        "    \"Fine Aggregate (component 7)(kg in a m^3 mixture)\"     : \"fine_agg\",\n",
        "    \"Age (day)\"                                             : \"age\",\n",
        "    \"Concrete compressive strength(MPa. megapascals)\"      : \"strength\"\n",
        "}, inplace= True)\n",
        "\n",
        "concrete_df.head(5)"
      ]
    },
    {
      "cell_type": "markdown",
      "metadata": {
        "id": "tp5MWepuKKiM"
      },
      "source": [
        "Suppose we want to predict which concrete formulas are strong enough for a particular application we have in mind (say 35 megapascals or more). This would be a binary classification (class-probability estimation) problem."
      ]
    },
    {
      "cell_type": "code",
      "execution_count": null,
      "metadata": {
        "id": "MtYogeMNKKiP"
      },
      "outputs": [],
      "source": [
        "concrete_df[\"is_strong\"] = concrete_df.strength >= 35\n",
        "concrete_df = concrete_df.drop(\"strength\", axis=\"columns\")\n",
        "X = concrete_df.iloc[:, :-1]\n",
        "Y = concrete_df.is_strong"
      ]
    },
    {
      "cell_type": "markdown",
      "metadata": {
        "id": "YrHax9w-KKiW"
      },
      "source": [
        "### Complexity control for logistic regression (regularization)\n",
        "\n",
        "One way to control the complexity of a model like logistic regression is to limit the number of variables.  There are different ways to do that, including using domain knowledge to select variables, ranking the variables based on some measure of correlation with the target variable (like informatin gain) and choosing the \"strongest\", and data-driven methods like sequential forward selection, sequential backward elimination, and other intelligent [feature selection](https://en.wikipedia.org/wiki/Feature_selection) methods.\n",
        "\n",
        "Today we will look at a different way of controlling complexity in mathematical models.  This method (\"regularization\" via mathematical optimization) is now one of the standard methods used in machine learning: not just for logistic regression, but generally for the large family of modeling methods that fits a parameterized numeric function to data.\n",
        "\n",
        "Recall that when fitting a logistic regression classifier (and many other models), we try to find the set of weights, $\\textbf{w}$, that maximize the fit to the data, based on some fit (\"objective\") function. In this case, let's call our objective function $g()$, which means that we want: $\\arg\\max_\\textbf{w} g(\\textbf{x}, \\textbf{w})$.\n",
        "\n",
        "We are trying to find the best set of weights without too much complexity.  Therefore, when we perform **regularization** we mathematically **penalize** models as they get more complex.  We achieve this by adding a \"penalty term\" into the objective function.  We moderate how much we care about fit and how much we care about simplicity (lack of complexity) by using a \"regularization parameter\" $\\lambda$ to specify how much importance our optimization procedure should place on fit vs. simplicity:\n",
        "\n",
        "$\\arg\\max_\\textbf{w} g(\\textbf{x}, \\textbf{w}) - \\lambda \\cdot \\text{penalty}(\\textbf{w})$.\n",
        "\n",
        "(The regularization parameter also sometimes is represented as `c`, which is usually $\\frac{1}{\\lambda}$ so smaller values of `c` lead to larger complexity penalties.)\n",
        "\n",
        "For mathematical reasons, allowing larger weights allows more complex fitting, so most penalties end up penalizing larger weights.\n",
        "\n",
        "The two most common types of regularization for logistic regression (and beyond) are the so-called $L_1$ and $L_2$ regularizations, which simply use the sum of the absolute value of the weights ($\\textbf{w}$) and the sum of the squares of the weights, respectively, as the penalty.\n"
      ]
    },
    {
      "cell_type": "code",
      "execution_count": null,
      "metadata": {
        "id": "C0w5zWC3KKiY"
      },
      "outputs": [],
      "source": [
        "#Let's set ourselves up to build some complex logistic regressions, as we have done in prior classes\n",
        "from sklearn.pipeline import Pipeline\n",
        "from sklearn.preprocessing import PolynomialFeatures\n",
        "\n",
        "def get_polynomial(degree, model):\n",
        "    # create different powers of X\n",
        "    polynomial_features = PolynomialFeatures(degree=degree, include_bias=False)\n",
        "    pipeline = Pipeline([(\"polynomial_features\", polynomial_features), (\"model\", model)])\n",
        "    return pipeline"
      ]
    },
    {
      "cell_type": "code",
      "execution_count": null,
      "metadata": {
        "collapsed": true,
        "id": "FExTtRR5KKig"
      },
      "outputs": [],
      "source": [
        "# Let's use 3rd degree polynomial\n",
        "degree = 3\n",
        "cs = {\"L2\": range(-20,6,5), \"L1\": range(-10,8,3)} \n",
        "import warnings\n",
        "warnings.filterwarnings(\"ignore\")\n",
        "# Plot decision surfaces for different regularization values for L1 and L2 regularization\n",
        "position = 0\n",
        "plt.figure(figsize=(15, 20))\n",
        "for regularization in ['L2', 'L1']:    \n",
        "    # Try some regularization values\n",
        "    for i in cs[regularization]:\n",
        "        # Modeling\n",
        "        c = np.power(10.0, i)\n",
        "        model = LogisticRegression(penalty=regularization.lower(), C=c, solver='liblinear')\n",
        "        model = get_polynomial(degree, model)\n",
        "        # Plotting\n",
        "        position += 1\n",
        "        plt.subplot(4, 3, position)\n",
        "        Decision_Surface(X, \"slag\", \"cement\", Y, model, True)\n",
        "        plt.title(regularization + \", C = \" + str(np.power(10.0, i)))\n",
        "plt.tight_layout()\n",
        "plt.show()"
      ]
    },
    {
      "cell_type": "markdown",
      "metadata": {
        "id": "InwRNYvWpy7-"
      },
      "source": [
        "**Feature weights without regularization.**"
      ]
    },
    {
      "cell_type": "code",
      "execution_count": null,
      "metadata": {
        "id": "gvzDJN-opVKL"
      },
      "outputs": [],
      "source": [
        "def get_coeffs(X, Y, model):\n",
        "    model.fit(X, Y)\n",
        "    return dict(zip(X.columns, model.coef_[0]))\n",
        "\n",
        "pd.DataFrame([get_coeffs(X, Y, LogisticRegression(solver='liblinear'))])"
      ]
    },
    {
      "cell_type": "markdown",
      "metadata": {
        "id": "uT3DzutJKKin"
      },
      "source": [
        "### Features' weights with L1/L2 regularization and feature normalization\n",
        "\n",
        "Let's take a look at the different values of our weights with each type of penalty, but first we need to understand **normalization**. \n",
        "\n",
        "What is normalization? Why do we need normalization? Whenever we work with data, it is crucial to consider the \"scale\" of the features. Some features might have distinct values from 1 to 1000, and other features might have values from 0 to 1. As many different data science/machine learning methods compare data along different dimensions, it can often be important to make sure the dimensions are comparable.\n",
        "\n",
        "To accomplish this, there are are many approaches--essentially ways to rescale the data.  The most common are:\n",
        "\n",
        "- _Normalization_ : this means different things to different people, but usually it either means standardization (see next) or means rescale the data so that each feature value is in [0,1]  \n",
        "- _Standardization_ : we rescale our data acting as if each features is normally distributed (Gaussian with zero mean and unit variance).  The result is that each feature value is a \"z-score\" -- i.e., the number of standard deviations the value is from the mean.  (Very common.)\n",
        "- _Scaling to a range_ : we rescale our data based on the minimum and maximum value of each feature\n",
        "- _Quantization_ : we rescale the feature values, replacing each value with its quantile position.  So, for example, a very large value for the feature might have a quantile value of 0.99, meaning that it is in the top percentile. \n",
        "\n",
        "\n",
        "( sklearn has a built-in function to help us re-scale our data -- see below)\n",
        "\n",
        "**Let's take a look at the data before and after re-scaling.**\n",
        "\n",
        "Before re-scaling:"
      ]
    },
    {
      "cell_type": "code",
      "execution_count": null,
      "metadata": {
        "collapsed": true,
        "id": "VKlQgOgfKKip"
      },
      "outputs": [],
      "source": [
        "X.head()"
      ]
    },
    {
      "cell_type": "code",
      "execution_count": null,
      "metadata": {
        "id": "sg3a-yRGKKiv"
      },
      "outputs": [],
      "source": [
        "#Rescale all features using standardization\n",
        "from sklearn.preprocessing import scale\n",
        "X_scaled = pd.DataFrame(scale(X, axis=0, with_mean=True, with_std=True, copy=True), columns=X.columns.values)"
      ]
    },
    {
      "cell_type": "markdown",
      "metadata": {
        "id": "2N95F4yYKKi2"
      },
      "source": [
        "After re-scaling:"
      ]
    },
    {
      "cell_type": "code",
      "execution_count": null,
      "metadata": {
        "collapsed": true,
        "id": "tkMXRF_QKKi3"
      },
      "outputs": [],
      "source": [
        "X_scaled.head(20)"
      ]
    },
    {
      "cell_type": "code",
      "execution_count": null,
      "metadata": {
        "collapsed": true,
        "id": "xF_CrYCIKKi-"
      },
      "outputs": [],
      "source": [
        "summary = X_scaled.describe()\n",
        "for column in summary:\n",
        "    summary[column] = summary[column].apply(lambda x: round(x,1))\n",
        "summary"
      ]
    },
    {
      "cell_type": "markdown",
      "metadata": {
        "id": "SsFweHVzKKjE"
      },
      "source": [
        "### Visualizing the weights as we change the regularization\n",
        "\n",
        "Before we try and delve into the impact regularization has on the coefficients logistic regression assigns to different features, let's investigate the coefficients before any regularization is performed."
      ]
    },
    {
      "cell_type": "code",
      "execution_count": null,
      "metadata": {
        "collapsed": true,
        "id": "wT-qQuaBKKjF"
      },
      "outputs": [],
      "source": [
        "\n",
        "\n",
        "pd.DataFrame([get_coeffs(X_scaled, Y, LogisticRegression(solver='liblinear'))])"
      ]
    },
    {
      "cell_type": "markdown",
      "metadata": {
        "id": "tCGXAJflKKjL"
      },
      "source": [
        "Now we can see how the model weights change with differing degrees of complexity control."
      ]
    },
    {
      "cell_type": "code",
      "execution_count": null,
      "metadata": {
        "id": "F4PDigLyKKjN"
      },
      "outputs": [],
      "source": [
        "def get_lr_regularization_paths(X, Y, regtype, reg_values):\n",
        "    coefs = [get_coeffs(X, Y, LogisticRegression(penalty=regtype, C=10**reg, solver='liblinear')) for reg in reg_values]\n",
        "    df = pd.DataFrame(coefs)\n",
        "    df[\"regularization\"] = reg_values\n",
        "    df.set_index(\"regularization\", inplace=True)    \n",
        "    return df"
      ]
    },
    {
      "cell_type": "code",
      "execution_count": null,
      "metadata": {
        "collapsed": true,
        "id": "Mm5xSrbJKKjS"
      },
      "outputs": [],
      "source": [
        "# Go through a bunch of ascending regularization parameters\n",
        "regs = np.arange(-5, 5, 0.5)  \n",
        "# Get coefficients \n",
        "l2_coefs = get_lr_regularization_paths(X_scaled, Y, \"l2\", regs)\n",
        "l2_coefs.plot()\n",
        "plt.title(\"L2 Regularization paths\")\n",
        "l1_coefs = get_lr_regularization_paths(X_scaled, Y, \"l1\", regs)\n",
        "print(l1_coefs)\n",
        "l1_coefs.plot()\n",
        "plt.title(\"L1 Regularization paths\")\n",
        "plt.show()"
      ]
    },
    {
      "cell_type": "markdown",
      "metadata": {
        "id": "R8SCJLOpKKjX"
      },
      "source": [
        "### Hyper-parameter tuning\n",
        "\n",
        "As seen previously, most models have a number of settings that impact their behavior and therefore generalization performance (such as the regularization settings we have seen today). A **different** way to use cross-validation (CV) is to tune these \"hyper-parameters\" (so-called because the coefficients in a model are also called \"parameters\").  I emphasize \"different\" above because these two different uses can confuse people when they start out, so to be clear: what we did last class was to use CV to **evaluate** models on holdout data.  What we will do now is to use CV to split up the *training* data in order to be able to choose hyperparameter values without tainting the holdout data. So we really are doing a second layer of holding out data.\n",
        "\n",
        "So, we can choose several values for a particular hyper-parameter to try, use cross-validation to estimate model generalization performance for each, and save the hyperparameters that offered the best results.\n",
        "\n",
        "For example, we could try different regularization settings and keep the one that produces the model with the highest accuracy. "
      ]
    },
    {
      "cell_type": "code",
      "execution_count": null,
      "metadata": {
        "collapsed": true,
        "id": "vVsZnCBuKKjZ"
      },
      "outputs": [],
      "source": [
        "#For simplicity here we will presume that our data are all our training data and that we have a separate holdout set somewhere (but see Ch. 5's discussion of \"nested\" cross-validation)\n",
        "from sklearn.model_selection import cross_val_score\n",
        "\n",
        "folds = 10\n",
        "\n",
        "def score_model(X, Y, model, scoring=\"accuracy\"):\n",
        "    scores = cross_val_score(model, X, Y, scoring=scoring, cv=folds)\n",
        "    return {\"mean\": scores.mean(), \"std_dev\": scores.std()}\n",
        "\n",
        "reg_vals = np.arange(-4, 4, 0.2)\n",
        "scores_list = [score_model(X_scaled, Y, LogisticRegression(C=10**reg, solver='liblinear')) for reg in reg_vals]\n",
        "\n",
        "accys = np.array([score[\"mean\"] for score in scores_list])\n",
        "# Confidence interval for the mean\n",
        "accys_std = 1.96 * np.array([score[\"std_dev\"] for score in scores_list]) / np.sqrt(folds)\n",
        "\n",
        "plt.plot(reg_vals, accys)\n",
        "plt.fill_between(reg_vals, accys + accys_std, accys - accys_std, alpha=0.3)\n",
        "plt.xlabel(\"Regularization\")\n",
        "plt.ylabel(\"Accuracy\")\n",
        "plt.title(\"Fitting curve for regularization using Cross Validation\")\n",
        "plt.show()"
      ]
    },
    {
      "cell_type": "code",
      "source": [
        "#And what regularization value gave the best \"cross-validated\" accuracy?\n",
        "reg_accs = pd.DataFrame(reg_vals, columns=['reg_val'])\n",
        "reg_accs['accy'] = accys\n",
        "reg_accs"
      ],
      "metadata": {
        "id": "lB-qowhA6eMf"
      },
      "execution_count": null,
      "outputs": []
    },
    {
      "cell_type": "markdown",
      "metadata": {
        "id": "qhjYewhLKKjd"
      },
      "source": [
        "### Grid Search: tuning many hyper-parameters\n",
        "\n",
        "The concept explored above can be extended in a very natural way to simultaniuosly optimize many hyper-parameters using a technique called \"grid search\". One first defines a \"grid\" of hyper-parameter values to explore. Basic grid search tries all possible combinations of these settings, selecting the setting with the best cross-validated value of the chosen generalization measure.\n",
        "\n",
        "Sklearn provides a convenient implementation."
      ]
    },
    {
      "cell_type": "code",
      "execution_count": null,
      "metadata": {
        "id": "drRf5v_nKKjf"
      },
      "outputs": [],
      "source": [
        "from sklearn.model_selection import GridSearchCV\n",
        "\n",
        "grid = {\"polynomial_features__degree\": [1, 2, 3], \"model__C\": [10.0**c for c in np.arange(-2, 3)]}\n",
        "\n",
        "def Polynomial_Model(degree=1, reg=1):\n",
        "    return get_polynomial(degree=degree, model=LogisticRegression(C=reg, solver='liblinear', max_iter=1000))\n",
        "\n",
        "# gridsearchcv behaves just like a model object, with fit & predict methods, and some additional functionalities\n",
        "tuned_model = GridSearchCV(Polynomial_Model(), grid, scoring=\"accuracy\", cv=10, verbose=1)\n",
        "tuned_model.fit(X_scaled, Y)\n",
        "\n",
        "print (\"Best accuracy: %0.3f, using: \" % tuned_model.best_score_)\n",
        "print (tuned_model.best_params_)"
      ]
    },
    {
      "cell_type": "markdown",
      "metadata": {
        "id": "TIXxVSOPKKjl"
      },
      "source": [
        "Let's take a look at the performance over our parameter grid."
      ]
    },
    {
      "cell_type": "code",
      "execution_count": null,
      "metadata": {
        "collapsed": true,
        "id": "b0gRyW_mKKjo"
      },
      "outputs": [],
      "source": [
        "from mpl_toolkits.mplot3d import Axes3D\n",
        "\n",
        "means = tuned_model.cv_results_['mean_test_score']\n",
        "stds = tuned_model.cv_results_['std_test_score']\n",
        "params = tuned_model.cv_results_['params']\n",
        "\n",
        "degrees = [param[\"polynomial_features__degree\"] for param in params]\n",
        "reg_vals = [np.log10(param[\"model__C\"]) for param in params]\n",
        "\n",
        "fig = plt.figure()\n",
        "ax = Axes3D(fig)\n",
        "surf = ax.plot_trisurf(degrees, reg_vals, means, linewidth=0.1, cmap=plt.cm.coolwarm)\n",
        "ax.set_xlabel('degrees')\n",
        "ax.set_ylabel('regularization')\n",
        "ax.set_zlabel('accuracy')\n",
        "plt.show()"
      ]
    },
    {
      "cell_type": "markdown",
      "metadata": {
        "id": "K4hcrx14KKjs"
      },
      "source": [
        "**A word of caution: ** Grids with many potential values combined with slow-ish model training can really blow up the time it takes to tune a model! \n",
        "\n",
        "Also, just to reiterate: both of the hyper-parameters we just tuned are used to control complexity. It's very difficult to manage multiple complexity dimensions without automated complexity control."
      ]
    },
    {
      "cell_type": "markdown",
      "metadata": {
        "id": "qRMpXxdDKKju"
      },
      "source": [
        "### Learning curves for model assessment\n",
        "\n",
        "Throughout the past lectures we analyzed and compared model accuracies using some particular **sample size** that was essentially fixed and determined by some choice(s) that we did not discuss (for the class demonstrations, basically the size of the dataset we obtained). \n",
        "\n",
        "However, as we've mentioned repeatedly in class: you shouldn't be thinking about \"getting a dataset\", but about acquiring data.  Investing in data assets.\n",
        "\n",
        "Very often we also want to assess the relationship between how much data we are using to train the models, and the generalization performance we achieve.  For example, do we have a good idea whether we should invest in acquiring more training data?  Or maybe we can discard some data from training to speed up learning (when we have a huge amount).\n",
        " \n",
        "The only way to answer this question is again, experiment with different sample sizes. The main tool to help us with this assessment is the **_learning curve_**.  Learning curves visualize the change of the generalization performance (accuray on the holdout data, in this case) based on different sizes of the training set.\n",
        "\n",
        "What would we expect to see? Holding everything else fixed, the generalization should be better with more training data, up until a certain point. Then, more data won't increase generalization performance."
      ]
    },
    {
      "cell_type": "code",
      "execution_count": null,
      "metadata": {
        "id": "ZGzDTpR3KKjw"
      },
      "outputs": [],
      "source": [
        "import sklearn.model_selection as cv\n",
        "from sklearn.metrics import accuracy_score\n",
        "\n",
        "def evaluate_model_on_sample(X, Y, model, pct, scoring=accuracy_score):\n",
        "    kf = cv.StratifiedKFold(n_splits=10, shuffle=True, random_state=42)\n",
        "    scores = []    \n",
        "    for train_index, test_index in kf.split(X, Y):  \n",
        "        # only take a portion of the training data\n",
        "        train_size = len(train_index)\n",
        "        sampled_indices = np.random.permutation(train_index)[:int(pct*train_size)]\n",
        "        model.fit(X.iloc[sampled_indices], Y[sampled_indices])\n",
        "        scores.append(scoring(Y[test_index], model.predict(X.loc[test_index])))       \n",
        "    return np.mean(scores)"
      ]
    },
    {
      "cell_type": "code",
      "execution_count": null,
      "metadata": {
        "id": "oQI8W6RoKKj1"
      },
      "outputs": [],
      "source": [
        "from sklearn.tree import DecisionTreeClassifier\n",
        "\n",
        "pcts = np.linspace(0.01,1,100).tolist()\n",
        "# Get scores for each classifier\n",
        "dt_scores = [evaluate_model_on_sample(X, Y, DecisionTreeClassifier(), pct) for pct in pcts]\n",
        "lr_scores = [evaluate_model_on_sample(X, Y, LogisticRegression(solver='liblinear'), pct) for pct in pcts]\n",
        "# Plot without confidence interval\n",
        "plt.plot(pcts, dt_scores, label=\"Classification Tree\")\n",
        "plt.plot(pcts, lr_scores, label=\"Logistic Regression\")\n",
        "plt.xlabel(\"Percent of data\")\n",
        "plt.ylabel(\"Generalization Accuracy\")\n",
        "plt.legend()\n",
        "plt.show()"
      ]
    },
    {
      "cell_type": "markdown",
      "source": [
        "You might wonder about the choppiness of that learning curve.  The most straightforward way to smooth it is to run multiple runs of CV and average the curves.  It takes a while to run, but here's what you get when you run the above 10 times and average the curves:"
      ],
      "metadata": {
        "id": "59PPmAF4UqEP"
      }
    },
    {
      "cell_type": "markdown",
      "source": [
        "![Screen Shot 2022-10-10 at 3.13.36 PM.png](data:image/png;base64,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)"
      ],
      "metadata": {
        "id": "24t3j8EbVSBr"
      }
    },
    {
      "cell_type": "markdown",
      "metadata": {
        "id": "-KCR-lV9KKj5"
      },
      "source": [
        "As we can see, learning curves can help us to determine at least 2 things:\n",
        "\n",
        "- We can see which model performs better or worse for each sample size (e.g. Classification Tree vs Logistic Regression)\n",
        "- We can get a sense of whether getting more data (or using less) will improve (or not degrade) generalization.\n",
        "\n",
        "Very often, the more data we have, the more \"complex\" models we can use (as we have seen), so we really would want to do grid search for each point on the learning curve!  (We did not do that above, but you could try it!)"
      ]
    }
  ],
  "metadata": {
    "colab": {
      "provenance": [],
      "include_colab_link": true
    },
    "kernelspec": {
      "display_name": "Python 3",
      "language": "python",
      "name": "python3"
    },
    "language_info": {
      "codemirror_mode": {
        "name": "ipython",
        "version": 3
      },
      "file_extension": ".py",
      "mimetype": "text/x-python",
      "name": "python",
      "nbconvert_exporter": "python",
      "pygments_lexer": "ipython3",
      "version": "3.6.5"
    }
  },
  "nbformat": 4,
  "nbformat_minor": 0
}